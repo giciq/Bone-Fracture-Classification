{
  "nbformat": 4,
  "nbformat_minor": 0,
  "metadata": {
    "colab": {
      "provenance": [],
      "gpuType": "T4"
    },
    "kernelspec": {
      "name": "python3",
      "display_name": "Python 3"
    },
    "language_info": {
      "name": "python"
    },
    "accelerator": "GPU"
  },
  "cells": [
    {
      "cell_type": "markdown",
      "source": [
        "## Preparing the data"
      ],
      "metadata": {
        "id": "NTd64pLuDV1D"
      }
    },
    {
      "cell_type": "code",
      "source": [
        "from google.colab import files\n",
        "files.upload()"
      ],
      "metadata": {
        "colab": {
          "base_uri": "https://localhost:8080/",
          "height": 90
        },
        "id": "vcam54W83Czn",
        "outputId": "47d20586-3e64-402e-ae0c-1d5582126465"
      },
      "execution_count": null,
      "outputs": [
        {
          "output_type": "display_data",
          "data": {
            "text/plain": [
              "<IPython.core.display.HTML object>"
            ],
            "text/html": [
              "\n",
              "     <input type=\"file\" id=\"files-25fdc04e-a1d6-4c86-8828-05324dab44b3\" name=\"files[]\" multiple disabled\n",
              "        style=\"border:none\" />\n",
              "     <output id=\"result-25fdc04e-a1d6-4c86-8828-05324dab44b3\">\n",
              "      Upload widget is only available when the cell has been executed in the\n",
              "      current browser session. Please rerun this cell to enable.\n",
              "      </output>\n",
              "      <script>// Copyright 2017 Google LLC\n",
              "//\n",
              "// Licensed under the Apache License, Version 2.0 (the \"License\");\n",
              "// you may not use this file except in compliance with the License.\n",
              "// You may obtain a copy of the License at\n",
              "//\n",
              "//      http://www.apache.org/licenses/LICENSE-2.0\n",
              "//\n",
              "// Unless required by applicable law or agreed to in writing, software\n",
              "// distributed under the License is distributed on an \"AS IS\" BASIS,\n",
              "// WITHOUT WARRANTIES OR CONDITIONS OF ANY KIND, either express or implied.\n",
              "// See the License for the specific language governing permissions and\n",
              "// limitations under the License.\n",
              "\n",
              "/**\n",
              " * @fileoverview Helpers for google.colab Python module.\n",
              " */\n",
              "(function(scope) {\n",
              "function span(text, styleAttributes = {}) {\n",
              "  const element = document.createElement('span');\n",
              "  element.textContent = text;\n",
              "  for (const key of Object.keys(styleAttributes)) {\n",
              "    element.style[key] = styleAttributes[key];\n",
              "  }\n",
              "  return element;\n",
              "}\n",
              "\n",
              "// Max number of bytes which will be uploaded at a time.\n",
              "const MAX_PAYLOAD_SIZE = 100 * 1024;\n",
              "\n",
              "function _uploadFiles(inputId, outputId) {\n",
              "  const steps = uploadFilesStep(inputId, outputId);\n",
              "  const outputElement = document.getElementById(outputId);\n",
              "  // Cache steps on the outputElement to make it available for the next call\n",
              "  // to uploadFilesContinue from Python.\n",
              "  outputElement.steps = steps;\n",
              "\n",
              "  return _uploadFilesContinue(outputId);\n",
              "}\n",
              "\n",
              "// This is roughly an async generator (not supported in the browser yet),\n",
              "// where there are multiple asynchronous steps and the Python side is going\n",
              "// to poll for completion of each step.\n",
              "// This uses a Promise to block the python side on completion of each step,\n",
              "// then passes the result of the previous step as the input to the next step.\n",
              "function _uploadFilesContinue(outputId) {\n",
              "  const outputElement = document.getElementById(outputId);\n",
              "  const steps = outputElement.steps;\n",
              "\n",
              "  const next = steps.next(outputElement.lastPromiseValue);\n",
              "  return Promise.resolve(next.value.promise).then((value) => {\n",
              "    // Cache the last promise value to make it available to the next\n",
              "    // step of the generator.\n",
              "    outputElement.lastPromiseValue = value;\n",
              "    return next.value.response;\n",
              "  });\n",
              "}\n",
              "\n",
              "/**\n",
              " * Generator function which is called between each async step of the upload\n",
              " * process.\n",
              " * @param {string} inputId Element ID of the input file picker element.\n",
              " * @param {string} outputId Element ID of the output display.\n",
              " * @return {!Iterable<!Object>} Iterable of next steps.\n",
              " */\n",
              "function* uploadFilesStep(inputId, outputId) {\n",
              "  const inputElement = document.getElementById(inputId);\n",
              "  inputElement.disabled = false;\n",
              "\n",
              "  const outputElement = document.getElementById(outputId);\n",
              "  outputElement.innerHTML = '';\n",
              "\n",
              "  const pickedPromise = new Promise((resolve) => {\n",
              "    inputElement.addEventListener('change', (e) => {\n",
              "      resolve(e.target.files);\n",
              "    });\n",
              "  });\n",
              "\n",
              "  const cancel = document.createElement('button');\n",
              "  inputElement.parentElement.appendChild(cancel);\n",
              "  cancel.textContent = 'Cancel upload';\n",
              "  const cancelPromise = new Promise((resolve) => {\n",
              "    cancel.onclick = () => {\n",
              "      resolve(null);\n",
              "    };\n",
              "  });\n",
              "\n",
              "  // Wait for the user to pick the files.\n",
              "  const files = yield {\n",
              "    promise: Promise.race([pickedPromise, cancelPromise]),\n",
              "    response: {\n",
              "      action: 'starting',\n",
              "    }\n",
              "  };\n",
              "\n",
              "  cancel.remove();\n",
              "\n",
              "  // Disable the input element since further picks are not allowed.\n",
              "  inputElement.disabled = true;\n",
              "\n",
              "  if (!files) {\n",
              "    return {\n",
              "      response: {\n",
              "        action: 'complete',\n",
              "      }\n",
              "    };\n",
              "  }\n",
              "\n",
              "  for (const file of files) {\n",
              "    const li = document.createElement('li');\n",
              "    li.append(span(file.name, {fontWeight: 'bold'}));\n",
              "    li.append(span(\n",
              "        `(${file.type || 'n/a'}) - ${file.size} bytes, ` +\n",
              "        `last modified: ${\n",
              "            file.lastModifiedDate ? file.lastModifiedDate.toLocaleDateString() :\n",
              "                                    'n/a'} - `));\n",
              "    const percent = span('0% done');\n",
              "    li.appendChild(percent);\n",
              "\n",
              "    outputElement.appendChild(li);\n",
              "\n",
              "    const fileDataPromise = new Promise((resolve) => {\n",
              "      const reader = new FileReader();\n",
              "      reader.onload = (e) => {\n",
              "        resolve(e.target.result);\n",
              "      };\n",
              "      reader.readAsArrayBuffer(file);\n",
              "    });\n",
              "    // Wait for the data to be ready.\n",
              "    let fileData = yield {\n",
              "      promise: fileDataPromise,\n",
              "      response: {\n",
              "        action: 'continue',\n",
              "      }\n",
              "    };\n",
              "\n",
              "    // Use a chunked sending to avoid message size limits. See b/62115660.\n",
              "    let position = 0;\n",
              "    do {\n",
              "      const length = Math.min(fileData.byteLength - position, MAX_PAYLOAD_SIZE);\n",
              "      const chunk = new Uint8Array(fileData, position, length);\n",
              "      position += length;\n",
              "\n",
              "      const base64 = btoa(String.fromCharCode.apply(null, chunk));\n",
              "      yield {\n",
              "        response: {\n",
              "          action: 'append',\n",
              "          file: file.name,\n",
              "          data: base64,\n",
              "        },\n",
              "      };\n",
              "\n",
              "      let percentDone = fileData.byteLength === 0 ?\n",
              "          100 :\n",
              "          Math.round((position / fileData.byteLength) * 100);\n",
              "      percent.textContent = `${percentDone}% done`;\n",
              "\n",
              "    } while (position < fileData.byteLength);\n",
              "  }\n",
              "\n",
              "  // All done.\n",
              "  yield {\n",
              "    response: {\n",
              "      action: 'complete',\n",
              "    }\n",
              "  };\n",
              "}\n",
              "\n",
              "scope.google = scope.google || {};\n",
              "scope.google.colab = scope.google.colab || {};\n",
              "scope.google.colab._files = {\n",
              "  _uploadFiles,\n",
              "  _uploadFilesContinue,\n",
              "};\n",
              "})(self);\n",
              "</script> "
            ]
          },
          "metadata": {}
        },
        {
          "output_type": "stream",
          "name": "stdout",
          "text": [
            "Saving kaggle.json to kaggle.json\n"
          ]
        },
        {
          "output_type": "execute_result",
          "data": {
            "text/plain": [
              "{'kaggle.json': b'{\"username\":\"giciqq\",\"key\":\"c7aad9a94b458c275cf91184c754ec4b\"}'}"
            ]
          },
          "metadata": {},
          "execution_count": 1
        }
      ]
    },
    {
      "cell_type": "code",
      "source": [
        "!rm -r ~/.kaggle"
      ],
      "metadata": {
        "colab": {
          "base_uri": "https://localhost:8080/"
        },
        "id": "hwLPiAHv1x2K",
        "outputId": "e0f385cc-a823-4f6b-a9d1-c8d97602b92b"
      },
      "execution_count": null,
      "outputs": [
        {
          "output_type": "stream",
          "name": "stdout",
          "text": [
            "rm: cannot remove '/root/.kaggle': No such file or directory\n"
          ]
        }
      ]
    },
    {
      "cell_type": "code",
      "source": [
        "!mkdir ~/.kaggle"
      ],
      "metadata": {
        "id": "8m8QAVfv18gf"
      },
      "execution_count": null,
      "outputs": []
    },
    {
      "cell_type": "code",
      "source": [
        "!mv ./kaggle.json ~/.kaggle/"
      ],
      "metadata": {
        "id": "c0_APqyO1-TC"
      },
      "execution_count": null,
      "outputs": []
    },
    {
      "cell_type": "code",
      "source": [
        "!chmod 600 ~/.kaggle/kaggle.json"
      ],
      "metadata": {
        "id": "Zip84AXs1_m7"
      },
      "execution_count": null,
      "outputs": []
    },
    {
      "cell_type": "code",
      "source": [
        "!kaggle datasets download -d pkdarabi/bone-break-classification-image-dataset"
      ],
      "metadata": {
        "colab": {
          "base_uri": "https://localhost:8080/"
        },
        "id": "BavWax5z2BiV",
        "outputId": "d12e1b55-defd-4409-f542-425373ca52f4"
      },
      "execution_count": null,
      "outputs": [
        {
          "output_type": "stream",
          "name": "stdout",
          "text": [
            "Downloading bone-break-classification-image-dataset.zip to /content\n",
            "\r  0% 0.00/28.4M [00:00<?, ?B/s]\r 39% 11.0M/28.4M [00:00<00:00, 115MB/s]\r 81% 23.0M/28.4M [00:00<00:00, 115MB/s]\n",
            "\r100% 28.4M/28.4M [00:00<00:00, 122MB/s]\n"
          ]
        }
      ]
    },
    {
      "cell_type": "code",
      "source": [
        "import zipfile\n",
        "zip_ref = zipfile.ZipFile('bone-break-classification-image-dataset.zip', 'r')\n",
        "zip_ref.extractall('/content')\n",
        "zip_ref.close()"
      ],
      "metadata": {
        "id": "jEFqvQIc2P2Q"
      },
      "execution_count": null,
      "outputs": []
    },
    {
      "cell_type": "code",
      "source": [
        "# Renaming 'Bone Break Classification' manually for 'Bone_Break_Classification'!"
      ],
      "metadata": {
        "id": "Q_Z5KKWLEBkW"
      },
      "execution_count": null,
      "outputs": []
    },
    {
      "cell_type": "code",
      "source": [
        "!mkdir /content/Bone_Break_Classification/Bone_Break_Classification/Train/"
      ],
      "metadata": {
        "id": "k5RTfTpI_2uN"
      },
      "execution_count": null,
      "outputs": []
    },
    {
      "cell_type": "code",
      "source": [
        "!mkdir /content/Bone_Break_Classification/Bone_Break_Classification/Test/"
      ],
      "metadata": {
        "id": "dtst9zIhAUxf"
      },
      "execution_count": null,
      "outputs": []
    },
    {
      "cell_type": "code",
      "source": [
        "!mv -v /content/Bone_Break_Classification/Bone_Break_Classification/* /content/Bone_Break_Classification/Bone_Break_Classification/Train"
      ],
      "metadata": {
        "colab": {
          "base_uri": "https://localhost:8080/"
        },
        "id": "7bUFu15QAl7K",
        "outputId": "ce6778f7-06c1-4e98-afd2-49912850c2ad"
      },
      "execution_count": null,
      "outputs": [
        {
          "output_type": "stream",
          "name": "stdout",
          "text": [
            "renamed '/content/Bone_Break_Classification/Bone_Break_Classification/Avulsion fracture' -> '/content/Bone_Break_Classification/Bone_Break_Classification/Train/Avulsion fracture'\n",
            "renamed '/content/Bone_Break_Classification/Bone_Break_Classification/Comminuted fracture' -> '/content/Bone_Break_Classification/Bone_Break_Classification/Train/Comminuted fracture'\n",
            "renamed '/content/Bone_Break_Classification/Bone_Break_Classification/Fracture Dislocation' -> '/content/Bone_Break_Classification/Bone_Break_Classification/Train/Fracture Dislocation'\n",
            "renamed '/content/Bone_Break_Classification/Bone_Break_Classification/Greenstick fracture' -> '/content/Bone_Break_Classification/Bone_Break_Classification/Train/Greenstick fracture'\n",
            "renamed '/content/Bone_Break_Classification/Bone_Break_Classification/Hairline Fracture' -> '/content/Bone_Break_Classification/Bone_Break_Classification/Train/Hairline Fracture'\n",
            "renamed '/content/Bone_Break_Classification/Bone_Break_Classification/Impacted fracture' -> '/content/Bone_Break_Classification/Bone_Break_Classification/Train/Impacted fracture'\n",
            "renamed '/content/Bone_Break_Classification/Bone_Break_Classification/Longitudinal fracture' -> '/content/Bone_Break_Classification/Bone_Break_Classification/Train/Longitudinal fracture'\n",
            "renamed '/content/Bone_Break_Classification/Bone_Break_Classification/Oblique fracture' -> '/content/Bone_Break_Classification/Bone_Break_Classification/Train/Oblique fracture'\n",
            "renamed '/content/Bone_Break_Classification/Bone_Break_Classification/Pathological fracture' -> '/content/Bone_Break_Classification/Bone_Break_Classification/Train/Pathological fracture'\n",
            "renamed '/content/Bone_Break_Classification/Bone_Break_Classification/Spiral Fracture' -> '/content/Bone_Break_Classification/Bone_Break_Classification/Train/Spiral Fracture'\n",
            "renamed '/content/Bone_Break_Classification/Bone_Break_Classification/Test' -> '/content/Bone_Break_Classification/Bone_Break_Classification/Train/Test'\n",
            "mv: cannot move '/content/Bone_Break_Classification/Bone_Break_Classification/Train' to a subdirectory of itself, '/content/Bone_Break_Classification/Bone_Break_Classification/Train/Train'\n"
          ]
        }
      ]
    },
    {
      "cell_type": "code",
      "source": [
        "!mv -v /content/Bone_Break_Classification/Bone_Break_Classification/Train/Test /content/Bone_Break_Classification/Bone_Break_Classification/"
      ],
      "metadata": {
        "colab": {
          "base_uri": "https://localhost:8080/"
        },
        "id": "ZNhOcJ7eBk0Q",
        "outputId": "b16477f1-1a50-47d3-ce0a-26e34d2fb1df"
      },
      "execution_count": null,
      "outputs": [
        {
          "output_type": "stream",
          "name": "stdout",
          "text": [
            "renamed '/content/Bone_Break_Classification/Bone_Break_Classification/Train/Test' -> '/content/Bone_Break_Classification/Bone_Break_Classification/Test'\n"
          ]
        }
      ]
    },
    {
      "cell_type": "code",
      "source": [
        "!cp -r /content/Bone_Break_Classification/Bone_Break_Classification/Train/* /content/Bone_Break_Classification/Bone_Break_Classification/Test/"
      ],
      "metadata": {
        "id": "pApmFxuHBw1j"
      },
      "execution_count": null,
      "outputs": []
    },
    {
      "cell_type": "code",
      "source": [
        "!rm -r /content/Bone_Break_Classification/Bone_Break_Classification/Train/*/Test"
      ],
      "metadata": {
        "id": "OvV-Dp0oEqxV"
      },
      "execution_count": null,
      "outputs": []
    },
    {
      "cell_type": "code",
      "source": [
        "!rm -r /content/Bone_Break_Classification/Bone_Break_Classification/Test/*/Train"
      ],
      "metadata": {
        "id": "IaxyThGIE5JF"
      },
      "execution_count": null,
      "outputs": []
    },
    {
      "cell_type": "code",
      "source": [
        "import os\n",
        "import shutil\n",
        "for dirpath, dirnames, filenames in os.walk(\"Bone_Break_Classification/Bone_Break_Classification\"):\n",
        "    if len(filenames) > 0:\n",
        "      for filename in filenames:\n",
        "        source_path = dirpath + '/' + filename\n",
        "        destination_path = dirpath.rsplit('/', 1)[0] + '/' + filename\n",
        "        shutil.move(source_path, destination_path)"
      ],
      "metadata": {
        "id": "sIvl8YZ94n7p"
      },
      "execution_count": null,
      "outputs": []
    },
    {
      "cell_type": "code",
      "source": [
        "!rm -r /content/Bone_Break_Classification/Bone_Break_Classification/Train/*/Train"
      ],
      "metadata": {
        "id": "1hj3Bj689qdb"
      },
      "execution_count": null,
      "outputs": []
    },
    {
      "cell_type": "code",
      "source": [
        "!rm -r /content/Bone_Break_Classification/Bone_Break_Classification/Test/*/Test"
      ],
      "metadata": {
        "id": "-3OCHWAoNBuY"
      },
      "execution_count": null,
      "outputs": []
    },
    {
      "cell_type": "code",
      "source": [
        "for dirpath, dirnames, filenames in os.walk(\"Bone_Break_Classification/Bone_Break_Classification\"):\n",
        "    print(f\"There are {len(dirnames)} directories and {len(filenames)} images in '{dirpath}'\")"
      ],
      "metadata": {
        "colab": {
          "base_uri": "https://localhost:8080/"
        },
        "id": "wF87KeXuNZ3D",
        "outputId": "8b76178a-c17e-484d-8783-1fa40a7865e7"
      },
      "execution_count": null,
      "outputs": [
        {
          "output_type": "stream",
          "name": "stdout",
          "text": [
            "There are 2 directories and 0 images in 'Bone_Break_Classification/Bone_Break_Classification'\n",
            "There are 10 directories and 0 images in 'Bone_Break_Classification/Bone_Break_Classification/Train'\n",
            "There are 0 directories and 68 images in 'Bone_Break_Classification/Bone_Break_Classification/Train/Longitudinal fracture'\n",
            "There are 0 directories and 137 images in 'Bone_Break_Classification/Bone_Break_Classification/Train/Fracture Dislocation'\n",
            "There are 0 directories and 101 images in 'Bone_Break_Classification/Bone_Break_Classification/Train/Hairline Fracture'\n",
            "There are 0 directories and 109 images in 'Bone_Break_Classification/Bone_Break_Classification/Train/Avulsion fracture'\n",
            "There are 0 directories and 116 images in 'Bone_Break_Classification/Bone_Break_Classification/Train/Pathological fracture'\n",
            "There are 0 directories and 75 images in 'Bone_Break_Classification/Bone_Break_Classification/Train/Impacted fracture'\n",
            "There are 0 directories and 134 images in 'Bone_Break_Classification/Bone_Break_Classification/Train/Comminuted fracture'\n",
            "There are 0 directories and 74 images in 'Bone_Break_Classification/Bone_Break_Classification/Train/Spiral Fracture'\n",
            "There are 0 directories and 106 images in 'Bone_Break_Classification/Bone_Break_Classification/Train/Greenstick fracture'\n",
            "There are 0 directories and 69 images in 'Bone_Break_Classification/Bone_Break_Classification/Train/Oblique fracture'\n",
            "There are 10 directories and 0 images in 'Bone_Break_Classification/Bone_Break_Classification/Test'\n",
            "There are 0 directories and 12 images in 'Bone_Break_Classification/Bone_Break_Classification/Test/Longitudinal fracture'\n",
            "There are 0 directories and 19 images in 'Bone_Break_Classification/Bone_Break_Classification/Test/Fracture Dislocation'\n",
            "There are 0 directories and 10 images in 'Bone_Break_Classification/Bone_Break_Classification/Test/Hairline Fracture'\n",
            "There are 0 directories and 14 images in 'Bone_Break_Classification/Bone_Break_Classification/Test/Avulsion fracture'\n",
            "There are 0 directories and 18 images in 'Bone_Break_Classification/Bone_Break_Classification/Test/Pathological fracture'\n",
            "There are 0 directories and 9 images in 'Bone_Break_Classification/Bone_Break_Classification/Test/Impacted fracture'\n",
            "There are 0 directories and 14 images in 'Bone_Break_Classification/Bone_Break_Classification/Test/Comminuted fracture'\n",
            "There are 0 directories and 12 images in 'Bone_Break_Classification/Bone_Break_Classification/Test/Spiral Fracture'\n",
            "There are 0 directories and 16 images in 'Bone_Break_Classification/Bone_Break_Classification/Test/Greenstick fracture'\n",
            "There are 0 directories and 16 images in 'Bone_Break_Classification/Bone_Break_Classification/Test/Oblique fracture'\n"
          ]
        }
      ]
    },
    {
      "cell_type": "code",
      "source": [
        "train_dir = \"Bone_Break_Classification/Bone_Break_Classification/Train\"\n",
        "test_dir = \"Bone_Break_Classification/Bone_Break_Classification/Test\""
      ],
      "metadata": {
        "id": "3SurafwoN1k5"
      },
      "execution_count": null,
      "outputs": []
    },
    {
      "cell_type": "code",
      "source": [
        "import tensorflow as tf\n",
        "IMG_SIZE = (224, 224)\n",
        "train_data = tf.keras.preprocessing.image_dataset_from_directory(directory=train_dir,\n",
        "                                                                 image_size=IMG_SIZE,\n",
        "                                                                 label_mode='categorical',\n",
        "                                                                 batch_size=32,\n",
        "                                                                 shuffle=True) # SHUFFLING!\n",
        "test_data = tf.keras.preprocessing.image_dataset_from_directory(directory=test_dir,\n",
        "                                                                 image_size=IMG_SIZE,\n",
        "                                                                 label_mode='categorical',\n",
        "                                                                shuffle=False) # No shuffling cause of calculating confusion matrix and other metrics"
      ],
      "metadata": {
        "colab": {
          "base_uri": "https://localhost:8080/"
        },
        "id": "YyyJrdNDONIP",
        "outputId": "6e0f79f6-a036-4224-9b71-095c4b197f82"
      },
      "execution_count": null,
      "outputs": [
        {
          "output_type": "stream",
          "name": "stdout",
          "text": [
            "Found 989 files belonging to 10 classes.\n",
            "Found 140 files belonging to 10 classes.\n"
          ]
        }
      ]
    },
    {
      "cell_type": "code",
      "source": [
        "train_data.class_names"
      ],
      "metadata": {
        "colab": {
          "base_uri": "https://localhost:8080/"
        },
        "id": "0q7ZmG8_Pa50",
        "outputId": "166cd8af-427b-4f79-aa7c-0c5327d65521"
      },
      "execution_count": null,
      "outputs": [
        {
          "output_type": "execute_result",
          "data": {
            "text/plain": [
              "['Avulsion fracture',\n",
              " 'Comminuted fracture',\n",
              " 'Fracture Dislocation',\n",
              " 'Greenstick fracture',\n",
              " 'Hairline Fracture',\n",
              " 'Impacted fracture',\n",
              " 'Longitudinal fracture',\n",
              " 'Oblique fracture',\n",
              " 'Pathological fracture',\n",
              " 'Spiral Fracture']"
            ]
          },
          "metadata": {},
          "execution_count": 36
        }
      ]
    },
    {
      "cell_type": "code",
      "source": [
        "for images, labels in train_data.take(1):\n",
        "  print(images, labels)"
      ],
      "metadata": {
        "colab": {
          "base_uri": "https://localhost:8080/"
        },
        "id": "JotyQIh2PoYJ",
        "outputId": "4e1ad520-f755-4a57-f82d-acc1f0137272"
      },
      "execution_count": null,
      "outputs": [
        {
          "output_type": "stream",
          "name": "stdout",
          "text": [
            "tf.Tensor(\n",
            "[[[[161.         161.         161.        ]\n",
            "   [159.9847     159.9847     159.9847    ]\n",
            "   [171.90306    171.90306    171.90306   ]\n",
            "   ...\n",
            "   [ 17.760271    17.760271    17.760271  ]\n",
            "   [ 22.341845    22.341845    22.341845  ]\n",
            "   [ 20.071384    20.071384    20.071384  ]]\n",
            "\n",
            "  [[161.92857    161.92857    161.92857   ]\n",
            "   [159.64285    159.64285    159.64285   ]\n",
            "   [158.20918    158.20918    158.20918   ]\n",
            "   ...\n",
            "   [ 21.647966    21.647966    21.647966  ]\n",
            "   [ 21.61734     21.61734     21.61734   ]\n",
            "   [ 19.499956    19.499956    19.499956  ]]\n",
            "\n",
            "  [[160.33163    160.33163    160.33163   ]\n",
            "   [158.57143    158.57143    158.57143   ]\n",
            "   [162.9847     162.9847     162.9847    ]\n",
            "   ...\n",
            "   [ 19.357107    19.357107    19.357107  ]\n",
            "   [ 18.852045    18.852045    18.852045  ]\n",
            "   [ 21.40309     21.40309     21.40309   ]]\n",
            "\n",
            "  ...\n",
            "\n",
            "  [[ 22.954084    22.954084    22.954084  ]\n",
            "   [ 24.642822    24.642822    24.642822  ]\n",
            "   [ 22.586758    22.586758    22.586758  ]\n",
            "   ...\n",
            "   [ 17.          17.          17.        ]\n",
            "   [ 17.          17.          17.        ]\n",
            "   [ 17.          17.          17.        ]]\n",
            "\n",
            "  [[ 24.071428    24.071428    24.071428  ]\n",
            "   [ 22.          22.          22.        ]\n",
            "   [ 24.642857    24.642857    24.642857  ]\n",
            "   ...\n",
            "   [ 17.          17.          17.        ]\n",
            "   [ 17.          17.          17.        ]\n",
            "   [ 17.          17.          17.        ]]\n",
            "\n",
            "  [[ 22.994894    22.994894    22.994894  ]\n",
            "   [ 24.071472    24.071472    24.071472  ]\n",
            "   [ 22.954054    22.954054    22.954054  ]\n",
            "   ...\n",
            "   [ 17.          17.          17.        ]\n",
            "   [ 17.          17.          17.        ]\n",
            "   [ 17.          17.          17.        ]]]\n",
            "\n",
            "\n",
            " [[[  0.           0.           0.        ]\n",
            "   [  0.           0.           0.        ]\n",
            "   [  0.           0.           0.        ]\n",
            "   ...\n",
            "   [111.92597    111.92597    111.92597   ]\n",
            "   [ 85.4625      85.4625      85.4625    ]\n",
            "   [ 10.693115    10.693115    10.693115  ]]\n",
            "\n",
            "  [[  0.           0.           0.        ]\n",
            "   [  0.           0.           0.        ]\n",
            "   [  0.           0.           0.        ]\n",
            "   ...\n",
            "   [116.08488    116.08488    116.08488   ]\n",
            "   [ 87.54786     87.54786     87.54786   ]\n",
            "   [ 12.460973    12.460973    12.460973  ]]\n",
            "\n",
            "  [[  0.           0.           0.        ]\n",
            "   [  0.           0.           0.        ]\n",
            "   [  0.           0.           0.        ]\n",
            "   ...\n",
            "   [118.63455    118.63455    118.63455   ]\n",
            "   [ 90.1502      90.1502      90.1502    ]\n",
            "   [ 13.822477    13.822477    13.822477  ]]\n",
            "\n",
            "  ...\n",
            "\n",
            "  [[  0.62356037   0.62356037   0.62356037]\n",
            "   [  0.60096675   0.60096675   0.60096675]\n",
            "   [  0.5783731    0.5783731    0.5783731 ]\n",
            "   ...\n",
            "   [  2.969022     2.969022     2.969022  ]\n",
            "   [  0.47246885   0.47246885   0.47246885]\n",
            "   [  2.0043874    2.0043874    2.0043874 ]]\n",
            "\n",
            "  [[ 62.333527    62.333527    62.333527  ]\n",
            "   [ 60.551216    60.551216    60.551216  ]\n",
            "   [ 59.58029     59.58029     59.58029   ]\n",
            "   ...\n",
            "   [ 42.06314     42.06314     42.06314   ]\n",
            "   [ 49.01004     49.01004     49.01004   ]\n",
            "   [ 28.960308    28.960308    28.960308  ]]\n",
            "\n",
            "  [[ 98.41642     98.41642     98.41642   ]\n",
            "   [ 94.87439     94.87439     94.87439   ]\n",
            "   [ 94.3661      94.3661      94.3661    ]\n",
            "   ...\n",
            "   [ 75.5196      75.5196      75.5196    ]\n",
            "   [ 86.24109     86.24109     86.24109   ]\n",
            "   [ 38.794106    38.794106    38.794106  ]]]\n",
            "\n",
            "\n",
            " [[[247.0353     247.0353     247.0353    ]\n",
            "   [252.61803    252.61803    252.61803   ]\n",
            "   [254.113      254.113      254.113     ]\n",
            "   ...\n",
            "   [251.46889    253.46889    252.46889   ]\n",
            "   [253.48647    254.76772    254.48647   ]\n",
            "   [250.82408    252.73033    251.82408   ]]\n",
            "\n",
            "  [[233.2917     233.2917     233.2917    ]\n",
            "   [212.87192    212.87192    212.87192   ]\n",
            "   [220.71512    220.71512    220.71512   ]\n",
            "   ...\n",
            "   [249.10365    250.87137    250.10365   ]\n",
            "   [250.25293    251.89035    251.25293   ]\n",
            "   [250.61607    252.56877    251.61607   ]]\n",
            "\n",
            "  [[156.47516    156.47516    156.47516   ]\n",
            "   [ 45.20018     45.20018     45.20018   ]\n",
            "   [ 32.351273    32.351273    32.351273  ]\n",
            "   ...\n",
            "   [245.5431     247.4615     246.5431    ]\n",
            "   [251.35658    252.76297    252.35658   ]\n",
            "   [252.22322    254.14578    253.22322   ]]\n",
            "\n",
            "  ...\n",
            "\n",
            "  [[196.95213    200.95213    199.95213   ]\n",
            "   [122.494      127.0565     125.77525   ]\n",
            "   [121.77609    127.77609    125.77609   ]\n",
            "   ...\n",
            "   [251.4986     253.41698    252.4986    ]\n",
            "   [253.29057    254.57182    254.29057   ]\n",
            "   [254.         255.         255.        ]]\n",
            "\n",
            "  [[226.61955    230.16237    229.61955   ]\n",
            "   [193.84557    198.1243     196.98492   ]\n",
            "   [200.10143    205.09245    203.59694   ]\n",
            "   ...\n",
            "   [252.68379    253.94704    253.68379   ]\n",
            "   [253.30318    254.44255    254.30318   ]\n",
            "   [254.         255.         255.        ]]\n",
            "\n",
            "  [[251.90625    255.         254.90625   ]\n",
            "   [251.         255.         254.        ]\n",
            "   [251.         255.         254.        ]\n",
            "   ...\n",
            "   [254.         255.         255.        ]\n",
            "   [254.         255.         255.        ]\n",
            "   [254.         255.         255.        ]]]\n",
            "\n",
            "\n",
            " ...\n",
            "\n",
            "\n",
            " [[[140.4949     140.4949     140.4949    ]\n",
            "   [139.71428    139.71428    139.71428   ]\n",
            "   [146.42857    146.42857    146.42857   ]\n",
            "   ...\n",
            "   [  4.6428223    4.6428223    4.6428223 ]\n",
            "   [  3.7857056    3.7857056    3.7857056 ]\n",
            "   [  2.9285278    2.9285278    2.9285278 ]]\n",
            "\n",
            "  [[137.35715    137.35715    137.35715   ]\n",
            "   [132.92856    132.92856    132.92856   ]\n",
            "   [141.57654    141.57654    141.57654   ]\n",
            "   ...\n",
            "   [  4.6428223    4.6428223    4.6428223 ]\n",
            "   [  3.7857056    3.7857056    3.7857056 ]\n",
            "   [  2.9285278    2.9285278    2.9285278 ]]\n",
            "\n",
            "  [[136.78572    136.78572    136.78572   ]\n",
            "   [129.14795    129.14795    129.14795   ]\n",
            "   [138.9847     138.9847     138.9847    ]\n",
            "   ...\n",
            "   [  4.6428223    4.6428223    4.6428223 ]\n",
            "   [  3.7857056    3.7857056    3.7857056 ]\n",
            "   [  2.9285278    2.9285278    2.9285278 ]]\n",
            "\n",
            "  ...\n",
            "\n",
            "  [[  6.           6.           6.        ]\n",
            "   [  6.           6.           6.        ]\n",
            "   [  6.           6.           6.        ]\n",
            "   ...\n",
            "   [ 10.          10.          10.        ]\n",
            "   [ 10.          10.          10.        ]\n",
            "   [ 10.          10.          10.        ]]\n",
            "\n",
            "  [[  6.           6.           6.        ]\n",
            "   [  6.           6.           6.        ]\n",
            "   [  6.           6.           6.        ]\n",
            "   ...\n",
            "   [ 10.          10.          10.        ]\n",
            "   [ 10.          10.          10.        ]\n",
            "   [ 10.          10.          10.        ]]\n",
            "\n",
            "  [[  6.           6.           6.        ]\n",
            "   [  6.           6.           6.        ]\n",
            "   [  6.           6.           6.        ]\n",
            "   ...\n",
            "   [ 10.          10.          10.        ]\n",
            "   [ 10.          10.          10.        ]\n",
            "   [ 10.          10.          10.        ]]]\n",
            "\n",
            "\n",
            " [[[ 77.28571     76.28571     72.28571   ]\n",
            "   [ 77.28571     76.28571     72.28571   ]\n",
            "   [ 77.28571     76.28571     72.28571   ]\n",
            "   ...\n",
            "   [ 72.82163     71.82163     67.82163   ]\n",
            "   [ 84.23815     83.23815     79.23815   ]\n",
            "   [ 96.21428     95.21428     91.21428   ]]\n",
            "\n",
            "  [[ 17.428572    16.428572    12.428572  ]\n",
            "   [ 17.428572    16.428572    12.428572  ]\n",
            "   [ 17.428572    16.428572    12.428572  ]\n",
            "   ...\n",
            "   [ 24.872278    23.872278    19.872278  ]\n",
            "   [ 23.417847    22.417847    18.417847  ]\n",
            "   [ 35.857143    34.857143    30.857143  ]]\n",
            "\n",
            "  [[ 18.928574    17.928574    13.928573  ]\n",
            "   [ 18.928574    17.928574    13.928573  ]\n",
            "   [ 18.928574    17.928574    13.928573  ]\n",
            "   ...\n",
            "   [ 18.899294    17.899294    13.899293  ]\n",
            "   [ 30.802185    29.802185    25.802185  ]\n",
            "   [ 35.500004    34.500004    30.500004  ]]\n",
            "\n",
            "  ...\n",
            "\n",
            "  [[ 19.          18.          14.        ]\n",
            "   [ 19.          18.          14.        ]\n",
            "   [ 19.          18.          14.        ]\n",
            "   ...\n",
            "   [ 17.368317    16.368317    12.368317  ]\n",
            "   [ 21.278694    20.278694    16.278694  ]\n",
            "   [ 37.357178    36.357178    32.357178  ]]\n",
            "\n",
            "  [[ 19.          18.          14.        ]\n",
            "   [ 19.          18.          14.        ]\n",
            "   [ 19.          18.          14.        ]\n",
            "   ...\n",
            "   [ 16.815561    15.815561    11.815561  ]\n",
            "   [ 24.221516    23.221516    19.221516  ]\n",
            "   [ 44.071472    43.071472    39.071472  ]]\n",
            "\n",
            "  [[ 19.          18.          14.        ]\n",
            "   [ 19.          18.          14.        ]\n",
            "   [ 19.          18.          14.        ]\n",
            "   ...\n",
            "   [ 19.73636     18.73636     14.736361  ]\n",
            "   [ 34.137283    33.137283    29.137285  ]\n",
            "   [ 59.214417    58.214417    54.214417  ]]]\n",
            "\n",
            "\n",
            " [[[ 21.          21.          21.        ]\n",
            "   [ 21.          21.          21.        ]\n",
            "   [ 20.758928    20.758928    20.758928  ]\n",
            "   ...\n",
            "   [ 16.758942    16.758942    16.758942  ]\n",
            "   [ 17.          17.          17.        ]\n",
            "   [ 17.          17.          17.        ]]\n",
            "\n",
            "  [[ 12.857142    12.857142    12.857142  ]\n",
            "   [ 12.857142    12.857142    12.857142  ]\n",
            "   [ 12.779655    12.779655    12.779655  ]\n",
            "   ...\n",
            "   [ 12.008942    12.008942    12.008942  ]\n",
            "   [ 12.559       12.559       12.559     ]\n",
            "   [ 12.928572    12.928572    12.928572  ]]\n",
            "\n",
            "  [[  8.535714     8.535714     8.535714  ]\n",
            "   [  8.282845     8.282845     8.282845  ]\n",
            "   [  8.071428     8.071428     8.071428  ]\n",
            "   ...\n",
            "   [  7.325594     7.325594     7.325594  ]\n",
            "   [  8.13394      8.13394      8.13394   ]\n",
            "   [  8.678572     8.678572     8.678572  ]]\n",
            "\n",
            "  ...\n",
            "\n",
            "  [[ 26.535706    26.535706    26.535706  ]\n",
            "   [ 22.97608     22.97608     22.97608   ]\n",
            "   [ 18.183357    18.183357    18.183357  ]\n",
            "   ...\n",
            "   [  2.7190387    2.7190387    2.7190387 ]\n",
            "   [  2.3631735    2.3631735    2.3631735 ]\n",
            "   [  2.0714111    2.0714111    2.0714111 ]]\n",
            "\n",
            "  [[ 28.285706    28.285706    28.285706  ]\n",
            "   [ 24.12308     24.12308     24.12308   ]\n",
            "   [ 18.481821    18.481821    18.481821  ]\n",
            "   ...\n",
            "   [  3.0357208    3.0357208    3.0357208 ]\n",
            "   [  2.5803528    2.5803528    2.5803528 ]\n",
            "   [  2.0357208    2.0357208    2.0357208 ]]\n",
            "\n",
            "  [[ 31.          31.          31.        ]\n",
            "   [ 26.098213    26.098213    26.098213  ]\n",
            "   [ 19.348213    19.348213    19.348213  ]\n",
            "   ...\n",
            "   [  1.           1.           1.        ]\n",
            "   [  0.54463196   0.54463196   0.54463196]\n",
            "   [  0.           0.           0.        ]]]], shape=(32, 224, 224, 3), dtype=float32) tf.Tensor(\n",
            "[[0. 0. 1. 0. 0. 0. 0. 0. 0. 0.]\n",
            " [1. 0. 0. 0. 0. 0. 0. 0. 0. 0.]\n",
            " [0. 0. 1. 0. 0. 0. 0. 0. 0. 0.]\n",
            " [0. 0. 0. 0. 0. 0. 0. 1. 0. 0.]\n",
            " [0. 0. 1. 0. 0. 0. 0. 0. 0. 0.]\n",
            " [0. 1. 0. 0. 0. 0. 0. 0. 0. 0.]\n",
            " [0. 1. 0. 0. 0. 0. 0. 0. 0. 0.]\n",
            " [0. 0. 1. 0. 0. 0. 0. 0. 0. 0.]\n",
            " [0. 0. 0. 0. 0. 0. 0. 0. 0. 1.]\n",
            " [0. 0. 0. 0. 0. 0. 1. 0. 0. 0.]\n",
            " [1. 0. 0. 0. 0. 0. 0. 0. 0. 0.]\n",
            " [0. 0. 0. 0. 0. 0. 0. 0. 1. 0.]\n",
            " [0. 0. 0. 0. 0. 0. 0. 0. 1. 0.]\n",
            " [1. 0. 0. 0. 0. 0. 0. 0. 0. 0.]\n",
            " [0. 1. 0. 0. 0. 0. 0. 0. 0. 0.]\n",
            " [0. 0. 0. 0. 0. 1. 0. 0. 0. 0.]\n",
            " [0. 0. 0. 0. 0. 0. 0. 0. 1. 0.]\n",
            " [0. 0. 1. 0. 0. 0. 0. 0. 0. 0.]\n",
            " [0. 1. 0. 0. 0. 0. 0. 0. 0. 0.]\n",
            " [0. 0. 0. 1. 0. 0. 0. 0. 0. 0.]\n",
            " [0. 0. 1. 0. 0. 0. 0. 0. 0. 0.]\n",
            " [0. 1. 0. 0. 0. 0. 0. 0. 0. 0.]\n",
            " [1. 0. 0. 0. 0. 0. 0. 0. 0. 0.]\n",
            " [0. 1. 0. 0. 0. 0. 0. 0. 0. 0.]\n",
            " [0. 0. 0. 0. 1. 0. 0. 0. 0. 0.]\n",
            " [0. 0. 0. 1. 0. 0. 0. 0. 0. 0.]\n",
            " [0. 0. 0. 0. 0. 0. 1. 0. 0. 0.]\n",
            " [0. 0. 0. 1. 0. 0. 0. 0. 0. 0.]\n",
            " [0. 0. 0. 0. 0. 1. 0. 0. 0. 0.]\n",
            " [0. 0. 0. 0. 0. 0. 0. 0. 0. 1.]\n",
            " [0. 0. 0. 0. 1. 0. 0. 0. 0. 0.]\n",
            " [0. 0. 0. 0. 1. 0. 0. 0. 0. 0.]], shape=(32, 10), dtype=float32)\n"
          ]
        }
      ]
    },
    {
      "cell_type": "code",
      "source": [
        "import matplotlib.pyplot as plt\n",
        "import matplotlib.image as mpimg\n",
        "import random\n",
        "target_class = random.choice(train_data.class_names)\n",
        "target_dir = \"Bone_Break_Classification/Bone_Break_Classification/Train/\" + target_class\n",
        "random_image = random.choice(os.listdir(target_dir))\n",
        "random_image_path = target_dir + '/' + random_image\n",
        "img = mpimg.imread(random_image_path)\n",
        "plt.imshow(img)\n",
        "plt.title(f\"Training random sample from {target_class} class\")\n",
        "plt.axis(False)"
      ],
      "metadata": {
        "colab": {
          "base_uri": "https://localhost:8080/",
          "height": 445
        },
        "id": "AvEKdYUOPtCE",
        "outputId": "8f56b2f1-4dc4-487f-bdac-b6520ecb84b6"
      },
      "execution_count": null,
      "outputs": [
        {
          "output_type": "execute_result",
          "data": {
            "text/plain": [
              "(-0.5, 639.5, 639.5, -0.5)"
            ]
          },
          "metadata": {},
          "execution_count": 38
        },
        {
          "output_type": "display_data",
          "data": {
            "text/plain": [
              "<Figure size 640x480 with 1 Axes>"
            ],
            "image/png": "[encoded data removed]"
          },
          "metadata": {}
        }
      ]
    },
    {
      "cell_type": "code",
      "source": [
        "img.shape"
      ],
      "metadata": {
        "colab": {
          "base_uri": "https://localhost:8080/"
        },
        "id": "0T9NmnivQvDc",
        "outputId": "f7fddc96-4cf1-4957-a243-2dc2f6cb3b45"
      },
      "execution_count": null,
      "outputs": [
        {
          "output_type": "execute_result",
          "data": {
            "text/plain": [
              "(640, 640, 3)"
            ]
          },
          "metadata": {},
          "execution_count": 39
        }
      ]
    },
    {
      "cell_type": "markdown",
      "source": [
        "## Simple CNN model"
      ],
      "metadata": {
        "id": "6YNCklqlDdNB"
      }
    },
    {
      "cell_type": "code",
      "source": [
        "from tensorflow.keras import layers"
      ],
      "metadata": {
        "id": "JrcZyYXFSsBS"
      },
      "execution_count": null,
      "outputs": []
    },
    {
      "cell_type": "code",
      "source": [
        "# Creating a base model\n",
        "inputs = tf.keras.layers.Input(shape=(224,224,3), name=\"input_layer\")\n",
        "x = tf.keras.layers.experimental.preprocessing.Rescaling(1./255)(inputs) # RESCALING!\n",
        "x = layers.Conv2D(filters=32, kernel_size=3, activation='relu', padding='same')(x)\n",
        "x = layers.Conv2D(filters=32, kernel_size=3, activation='relu', padding='same')(x)\n",
        "x = layers.MaxPooling2D(pool_size=2)(x)\n",
        "x = layers.Conv2D(filters=64, kernel_size=3, activation='relu', padding='same')(x)\n",
        "x = layers.Conv2D(filters=64, kernel_size=3, activation='relu', padding='same')(x)\n",
        "x = layers.MaxPooling2D(pool_size=2)(x)\n",
        "x = layers.Conv2D(filters=128, kernel_size=3, activation='relu', padding='same')(x)\n",
        "x = layers.Conv2D(filters=128, kernel_size=3, activation='relu', padding='same')(x)\n",
        "x = layers.MaxPooling2D(pool_size=2)(x)\n",
        "x = layers.Flatten()(x)\n",
        "outputs = layers.Dense(10, activation='softmax')(x)\n",
        "\n",
        "model_0 = tf.keras.Model(inputs, outputs)"
      ],
      "metadata": {
        "id": "qIik7fe0RMqF"
      },
      "execution_count": null,
      "outputs": []
    },
    {
      "cell_type": "code",
      "source": [
        "model_0.compile(loss=\"categorical_crossentropy\",\n",
        "                optimizer=tf.keras.optimizers.Adam(learning_rate=0.001),\n",
        "                metrics=[\"accuracy\"])"
      ],
      "metadata": {
        "id": "VKZf8yNRTH9m"
      },
      "execution_count": null,
      "outputs": []
    },
    {
      "cell_type": "code",
      "source": [
        "model_0.summary()"
      ],
      "metadata": {
        "colab": {
          "base_uri": "https://localhost:8080/"
        },
        "id": "Zv0oAuaoTriw",
        "outputId": "c4c38251-5b41-4a3c-9f75-b1e42efaff33"
      },
      "execution_count": null,
      "outputs": [
        {
          "output_type": "stream",
          "name": "stdout",
          "text": [
            "Model: \"model\"\n",
            "_________________________________________________________________\n",
            " Layer (type)                Output Shape              Param #   \n",
            "=================================================================\n",
            " input_layer (InputLayer)    [(None, 224, 224, 3)]     0         \n",
            "                                                                 \n",
            " rescaling (Rescaling)       (None, 224, 224, 3)       0         \n",
            "                                                                 \n",
            " conv2d (Conv2D)             (None, 224, 224, 32)      896       \n",
            "                                                                 \n",
            " conv2d_1 (Conv2D)           (None, 224, 224, 32)      9248      \n",
            "                                                                 \n",
            " max_pooling2d (MaxPooling2  (None, 112, 112, 32)      0         \n",
            " D)                                                              \n",
            "                                                                 \n",
            " conv2d_2 (Conv2D)           (None, 112, 112, 64)      18496     \n",
            "                                                                 \n",
            " conv2d_3 (Conv2D)           (None, 112, 112, 64)      36928     \n",
            "                                                                 \n",
            " max_pooling2d_1 (MaxPoolin  (None, 56, 56, 64)        0         \n",
            " g2D)                                                            \n",
            "                                                                 \n",
            " conv2d_4 (Conv2D)           (None, 56, 56, 128)       73856     \n",
            "                                                                 \n",
            " conv2d_5 (Conv2D)           (None, 56, 56, 128)       147584    \n",
            "                                                                 \n",
            " max_pooling2d_2 (MaxPoolin  (None, 28, 28, 128)       0         \n",
            " g2D)                                                            \n",
            "                                                                 \n",
            " flatten (Flatten)           (None, 100352)            0         \n",
            "                                                                 \n",
            " dense (Dense)               (None, 10)                1003530   \n",
            "                                                                 \n",
            "=================================================================\n",
            "Total params: 1290538 (4.92 MB)\n",
            "Trainable params: 1290538 (4.92 MB)\n",
            "Non-trainable params: 0 (0.00 Byte)\n",
            "_________________________________________________________________\n"
          ]
        }
      ]
    },
    {
      "cell_type": "code",
      "source": [
        "# EarlyStopping callback to stop training if model's val_loss doesn't improve for 3 epochs\n",
        "early_stopping = tf.keras.callbacks.EarlyStopping(monitor=\"val_loss\", # watch the val loss metric\n",
        "                                                  patience=3) # if val loss decreases for 3 epochs in a row, stop training\n",
        "# Creating learning rate reduction callback\n",
        "reduce_lr = tf.keras.callbacks.ReduceLROnPlateau(monitor=\"val_loss\",\n",
        "                                                 factor=0.2, # multiply the learning rate by 0.2 (reduce by 5x)\n",
        "                                                 patience=2,\n",
        "                                                 verbose=1, # print out when learning rate goes down\n",
        "                                                 min_lr=1e-7)"
      ],
      "metadata": {
        "id": "xLRCp7_famu7"
      },
      "execution_count": null,
      "outputs": []
    },
    {
      "cell_type": "code",
      "source": [
        "model_0.fit(train_data,\n",
        "            epochs=300,\n",
        "            steps_per_epoch=len(train_data),\n",
        "            validation_data=test_data,\n",
        "            validation_steps=len(test_data),\n",
        "            callbacks=[early_stopping, reduce_lr])"
      ],
      "metadata": {
        "colab": {
          "base_uri": "https://localhost:8080/"
        },
        "id": "akotptJ0TWQi",
        "outputId": "2fbdbf5b-bfaf-4131-dbd3-251f9866c992"
      },
      "execution_count": null,
      "outputs": [
        {
          "output_type": "stream",
          "name": "stdout",
          "text": [
            "Epoch 1/300\n",
            "31/31 [==============================] - 21s 333ms/step - loss: 2.2932 - accuracy: 0.1294 - val_loss: 2.3118 - val_accuracy: 0.0929 - lr: 0.0010\n",
            "Epoch 2/300\n",
            "31/31 [==============================] - 4s 118ms/step - loss: 2.2676 - accuracy: 0.1466 - val_loss: 2.2957 - val_accuracy: 0.1357 - lr: 0.0010\n",
            "Epoch 3/300\n",
            "31/31 [==============================] - 4s 119ms/step - loss: 2.2116 - accuracy: 0.1871 - val_loss: 2.2936 - val_accuracy: 0.1429 - lr: 0.0010\n",
            "Epoch 4/300\n",
            "31/31 [==============================] - 4s 122ms/step - loss: 2.1500 - accuracy: 0.2275 - val_loss: 2.3500 - val_accuracy: 0.1714 - lr: 0.0010\n",
            "Epoch 5/300\n",
            "31/31 [==============================] - ETA: 0s - loss: 2.0618 - accuracy: 0.2639\n",
            "Epoch 5: ReduceLROnPlateau reducing learning rate to 0.00020000000949949026.\n",
            "31/31 [==============================] - 4s 119ms/step - loss: 2.0618 - accuracy: 0.2639 - val_loss: 2.4912 - val_accuracy: 0.1571 - lr: 0.0010\n",
            "Epoch 6/300\n",
            "31/31 [==============================] - 4s 132ms/step - loss: 1.8515 - accuracy: 0.3600 - val_loss: 2.5560 - val_accuracy: 0.2071 - lr: 2.0000e-04\n"
          ]
        },
        {
          "output_type": "execute_result",
          "data": {
            "text/plain": [
              "<keras.src.callbacks.History at 0x7a7953158a60>"
            ]
          },
          "metadata": {},
          "execution_count": 45
        }
      ]
    },
    {
      "cell_type": "code",
      "source": [
        "model_0.evaluate(test_data)"
      ],
      "metadata": {
        "colab": {
          "base_uri": "https://localhost:8080/"
        },
        "id": "CeCfxVSyTn_O",
        "outputId": "35e30b72-441b-4014-8f83-f4e404f72940"
      },
      "execution_count": null,
      "outputs": [
        {
          "output_type": "stream",
          "name": "stdout",
          "text": [
            "5/5 [==============================] - 0s 40ms/step - loss: 2.5560 - accuracy: 0.2071\n"
          ]
        },
        {
          "output_type": "execute_result",
          "data": {
            "text/plain": [
              "[2.5560340881347656, 0.20714285969734192]"
            ]
          },
          "metadata": {},
          "execution_count": 46
        }
      ]
    },
    {
      "cell_type": "markdown",
      "source": [
        "## Transfer Learning: Feature Extraction Model (EfficientNetV2) with data augmentation"
      ],
      "metadata": {
        "id": "jdBTsFpADl0T"
      }
    },
    {
      "cell_type": "code",
      "source": [
        "max_height = 0\n",
        "max_width = 0\n",
        "min_height = 640\n",
        "min_width = 640\n",
        "for dirpath, dirnames, filenames in os.walk(\"Bone_Break_Classification/Bone_Break_Classification\"):\n",
        "  if len(filenames) > 0:\n",
        "    for filename in filenames:\n",
        "      path = dirpath + '/' + filename\n",
        "      img = mpimg.imread(path)\n",
        "      if img.shape[0] > max_height:\n",
        "        max_height = img.shape[0]\n",
        "      if img.shape[1] > max_width:\n",
        "        max_width = img.shape[1]\n",
        "      if img.shape[0] < min_height:\n",
        "        min_height = img.shape[0]\n",
        "      if img.shape[1] < min_width:\n",
        "        min_width = img.shape[1]\n",
        "\n",
        "print(max_height, max_width, min_height, min_width)"
      ],
      "metadata": {
        "colab": {
          "base_uri": "https://localhost:8080/"
        },
        "id": "3j0looiKQ7-H",
        "outputId": "a32a51bf-e2db-437d-ca65-3098d1c8c108"
      },
      "execution_count": null,
      "outputs": [
        {
          "output_type": "stream",
          "name": "stdout",
          "text": [
            "640 640 77 58\n"
          ]
        }
      ]
    },
    {
      "cell_type": "code",
      "source": [
        "IMG_SIZE = (224, 224)\n",
        "train_data = tf.keras.preprocessing.image_dataset_from_directory(directory=train_dir,\n",
        "                                                                 image_size=IMG_SIZE,\n",
        "                                                                 label_mode='categorical',\n",
        "                                                                 batch_size=32,\n",
        "                                                                 shuffle=True) # SHUFFLING!\n",
        "test_data = tf.keras.preprocessing.image_dataset_from_directory(directory=test_dir,\n",
        "                                                                 image_size=IMG_SIZE,\n",
        "                                                                 label_mode='categorical',\n",
        "                                                                 shuffle=False) # No shuffling cause of calculating confusion matrix and other metrics"
      ],
      "metadata": {
        "id": "6u6JwjmGa_5p",
        "colab": {
          "base_uri": "https://localhost:8080/"
        },
        "outputId": "1de819a9-36b8-4a71-b960-afb724dcd502"
      },
      "execution_count": null,
      "outputs": [
        {
          "output_type": "stream",
          "name": "stdout",
          "text": [
            "Found 989 files belonging to 10 classes.\n",
            "Found 140 files belonging to 10 classes.\n"
          ]
        }
      ]
    },
    {
      "cell_type": "code",
      "source": [
        "from tensorflow.keras.models import Sequential\n",
        "\n",
        "data_augmentation = Sequential([\n",
        "    layers.RandomFlip(\"horizontal\"),\n",
        "    layers.RandomHeight(0.2),\n",
        "    layers.RandomWidth(0.2),\n",
        "    layers.RandomZoom(0.2),\n",
        "    layers.RandomRotation(0.2)\n",
        "]\n",
        "    ,name=\"data_augmentation\")"
      ],
      "metadata": {
        "id": "yoCpR1MTMOqI"
      },
      "execution_count": null,
      "outputs": []
    },
    {
      "cell_type": "code",
      "source": [
        "# Weights link:\n",
        "#!wget https://github.com/fchollet/deep-learning-models/releases/download/v0.6/mobilenet_2_5_224_tf.h5"
      ],
      "metadata": {
        "id": "IPjAn8vSX3tI"
      },
      "execution_count": null,
      "outputs": []
    },
    {
      "cell_type": "code",
      "source": [
        "base_model = tf.keras.applications.efficientnet_v2.EfficientNetV2B0(include_top=False)\n",
        "base_model.trainable = False\n",
        "\n",
        "inputs = layers.Input(shape=IMG_SIZE+(3,), name=\"input_layer\")\n",
        "x = data_augmentation(inputs)\n",
        "x = base_model(x, training=False)\n",
        "x = layers.GlobalAveragePooling2D(name=\"GAP2D\")(x)\n",
        "outputs = layers.Dense(len(train_data.class_names), activation=\"softmax\", name=\"output_layer\")(x)\n",
        "\n",
        "model_feature_extraction = tf.keras.Model(inputs, outputs)"
      ],
      "metadata": {
        "colab": {
          "base_uri": "https://localhost:8080/"
        },
        "id": "c63C4jIyT1fX",
        "outputId": "3a31a677-c44f-4bfe-9a38-f037bb6bd92e"
      },
      "execution_count": null,
      "outputs": [
        {
          "output_type": "stream",
          "name": "stdout",
          "text": [
            "Downloading data from https://storage.googleapis.com/tensorflow/keras-applications/efficientnet_v2/efficientnetv2-b0_notop.h5\n",
            "24274472/24274472 [==============================] - 0s 0us/step\n"
          ]
        }
      ]
    },
    {
      "cell_type": "code",
      "source": [
        "IMG_SIZE+(3,)"
      ],
      "metadata": {
        "colab": {
          "base_uri": "https://localhost:8080/"
        },
        "id": "A_CCtmbzUzzu",
        "outputId": "4b54cc2b-487c-41b5-b6f2-6c5f3683dee5"
      },
      "execution_count": null,
      "outputs": [
        {
          "output_type": "execute_result",
          "data": {
            "text/plain": [
              "(224, 224, 3)"
            ]
          },
          "metadata": {},
          "execution_count": 52
        }
      ]
    },
    {
      "cell_type": "code",
      "source": [
        "checkpoint_path = \"feature_extraction/checkpoint.ckpt\"\n",
        "checkpoint_callback = tf.keras.callbacks.ModelCheckpoint(filepath=checkpoint_path,\n",
        "                                                         save_weights_only=True,\n",
        "                                                         save_best_only=True,\n",
        "                                                         save_freq=\"epoch\",\n",
        "                                                         verbose=1)"
      ],
      "metadata": {
        "id": "dZAhA9_96z20"
      },
      "execution_count": null,
      "outputs": []
    },
    {
      "cell_type": "code",
      "source": [
        "model_feature_extraction.compile(loss=\"categorical_crossentropy\",\n",
        "                                 optimizer=tf.keras.optimizers.Adam(),\n",
        "                                 metrics=[\"accuracy\"])\n",
        "history_1 = model_feature_extraction.fit(train_data,\n",
        "                             epochs=11,\n",
        "                             steps_per_epoch=len(train_data),\n",
        "                             validation_data=test_data,\n",
        "                             validation_steps=len(test_data),\n",
        "                             callbacks=[checkpoint_callback])"
      ],
      "metadata": {
        "colab": {
          "base_uri": "https://localhost:8080/"
        },
        "id": "DHJrGXOqVSSZ",
        "outputId": "31f0812d-175e-416a-eed1-bdcd89fa1595"
      },
      "execution_count": null,
      "outputs": [
        {
          "output_type": "stream",
          "name": "stdout",
          "text": [
            "Epoch 1/11\n",
            "31/31 [==============================] - ETA: 0s - loss: 2.2760 - accuracy: 0.1618\n",
            "Epoch 1: val_loss improved from inf to 2.24493, saving model to feature_extraction/checkpoint.ckpt\n",
            "31/31 [==============================] - 49s 1s/step - loss: 2.2760 - accuracy: 0.1618 - val_loss: 2.2449 - val_accuracy: 0.1786\n",
            "Epoch 2/11\n",
            "31/31 [==============================] - ETA: 0s - loss: 2.0859 - accuracy: 0.2639\n",
            "Epoch 2: val_loss improved from 2.24493 to 2.16314, saving model to feature_extraction/checkpoint.ckpt\n",
            "31/31 [==============================] - 30s 953ms/step - loss: 2.0859 - accuracy: 0.2639 - val_loss: 2.1631 - val_accuracy: 0.2429\n",
            "Epoch 3/11\n",
            "31/31 [==============================] - ETA: 0s - loss: 1.9980 - accuracy: 0.3276\n",
            "Epoch 3: val_loss improved from 2.16314 to 2.10142, saving model to feature_extraction/checkpoint.ckpt\n",
            "31/31 [==============================] - 28s 897ms/step - loss: 1.9980 - accuracy: 0.3276 - val_loss: 2.1014 - val_accuracy: 0.2643\n",
            "Epoch 4/11\n",
            "31/31 [==============================] - ETA: 0s - loss: 1.9311 - accuracy: 0.3529\n",
            "Epoch 4: val_loss improved from 2.10142 to 2.05465, saving model to feature_extraction/checkpoint.ckpt\n",
            "31/31 [==============================] - 24s 745ms/step - loss: 1.9311 - accuracy: 0.3529 - val_loss: 2.0547 - val_accuracy: 0.2929\n",
            "Epoch 5/11\n",
            "31/31 [==============================] - ETA: 0s - loss: 1.8771 - accuracy: 0.3610\n",
            "Epoch 5: val_loss improved from 2.05465 to 2.02082, saving model to feature_extraction/checkpoint.ckpt\n",
            "31/31 [==============================] - 20s 621ms/step - loss: 1.8771 - accuracy: 0.3610 - val_loss: 2.0208 - val_accuracy: 0.2857\n",
            "Epoch 6/11\n",
            "31/31 [==============================] - ETA: 0s - loss: 1.8287 - accuracy: 0.3691\n",
            "Epoch 6: val_loss improved from 2.02082 to 2.01321, saving model to feature_extraction/checkpoint.ckpt\n",
            "31/31 [==============================] - 20s 624ms/step - loss: 1.8287 - accuracy: 0.3691 - val_loss: 2.0132 - val_accuracy: 0.2714\n",
            "Epoch 7/11\n",
            "31/31 [==============================] - ETA: 0s - loss: 1.7759 - accuracy: 0.4125\n",
            "Epoch 7: val_loss improved from 2.01321 to 1.99675, saving model to feature_extraction/checkpoint.ckpt\n",
            "31/31 [==============================] - 22s 696ms/step - loss: 1.7759 - accuracy: 0.4125 - val_loss: 1.9967 - val_accuracy: 0.2857\n",
            "Epoch 8/11\n",
            "31/31 [==============================] - ETA: 0s - loss: 1.7351 - accuracy: 0.4166\n",
            "Epoch 8: val_loss improved from 1.99675 to 1.98183, saving model to feature_extraction/checkpoint.ckpt\n",
            "31/31 [==============================] - 19s 626ms/step - loss: 1.7351 - accuracy: 0.4166 - val_loss: 1.9818 - val_accuracy: 0.2643\n",
            "Epoch 9/11\n",
            "31/31 [==============================] - ETA: 0s - loss: 1.7456 - accuracy: 0.4115\n",
            "Epoch 9: val_loss improved from 1.98183 to 1.97573, saving model to feature_extraction/checkpoint.ckpt\n",
            "31/31 [==============================] - 19s 591ms/step - loss: 1.7456 - accuracy: 0.4115 - val_loss: 1.9757 - val_accuracy: 0.2929\n",
            "Epoch 10/11\n",
            "31/31 [==============================] - ETA: 0s - loss: 1.7076 - accuracy: 0.4267\n",
            "Epoch 10: val_loss improved from 1.97573 to 1.95969, saving model to feature_extraction/checkpoint.ckpt\n",
            "31/31 [==============================] - 20s 622ms/step - loss: 1.7076 - accuracy: 0.4267 - val_loss: 1.9597 - val_accuracy: 0.3000\n",
            "Epoch 11/11\n",
            "31/31 [==============================] - ETA: 0s - loss: 1.6995 - accuracy: 0.4287\n",
            "Epoch 11: val_loss improved from 1.95969 to 1.93488, saving model to feature_extraction/checkpoint.ckpt\n",
            "31/31 [==============================] - 17s 542ms/step - loss: 1.6995 - accuracy: 0.4287 - val_loss: 1.9349 - val_accuracy: 0.3000\n"
          ]
        }
      ]
    },
    {
      "cell_type": "code",
      "source": [
        "def plot_loss_curves(history):\n",
        "  loss = history.history['loss']\n",
        "  val_loss = history.history['val_loss']\n",
        "\n",
        "  accuracy = history.history['accuracy']\n",
        "  val_accuracy = history.history['val_accuracy']\n",
        "\n",
        "  epochs = range(len(history.history['loss']))\n",
        "\n",
        "  # Plot loss\n",
        "  plt.plot(epochs, loss, label='training_loss')\n",
        "  plt.plot(epochs, val_loss, label='val_loss')\n",
        "  plt.title('Loss')\n",
        "  plt.xlabel('Epochs')\n",
        "  plt.legend()\n",
        "\n",
        "  # Plot accuracy\n",
        "  plt.figure()\n",
        "  plt.plot(epochs, accuracy, label='training_accuracy')\n",
        "  plt.plot(epochs, val_accuracy, label='val_accuracy')\n",
        "  plt.title('Accuracy')\n",
        "  plt.xlabel('Epochs')\n",
        "  plt.legend();\n",
        "\n",
        "plot_loss_curves(model_feature_extraction.history)"
      ],
      "metadata": {
        "colab": {
          "base_uri": "https://localhost:8080/",
          "height": 927
        },
        "id": "sJ9Lkb8rbjsw",
        "outputId": "145d1c1f-add0-4983-ea3c-ffa341dc56f7"
      },
      "execution_count": null,
      "outputs": [
        {
          "output_type": "display_data",
          "data": {
            "text/plain": [
              "<Figure size 640x480 with 1 Axes>"
            ],
            "image/png": "[encoded data removed]"
          },
          "metadata": {}
        },
        {
          "output_type": "display_data",
          "data": {
            "text/plain": [
              "<Figure size 640x480 with 1 Axes>"
            ],
            "image/png": "[encoded data removed]"
          },
          "metadata": {}
        }
      ]
    },
    {
      "cell_type": "code",
      "source": [
        "model_feature_extraction.evaluate(test_data)"
      ],
      "metadata": {
        "colab": {
          "base_uri": "https://localhost:8080/"
        },
        "id": "XR8PIvpReeHr",
        "outputId": "bfd81450-ad40-4408-c400-6d397b548f5a"
      },
      "execution_count": null,
      "outputs": [
        {
          "output_type": "stream",
          "name": "stdout",
          "text": [
            "5/5 [==============================] - 0s 79ms/step - loss: 1.9349 - accuracy: 0.3000\n"
          ]
        },
        {
          "output_type": "execute_result",
          "data": {
            "text/plain": [
              "[1.934875726699829, 0.30000001192092896]"
            ]
          },
          "metadata": {},
          "execution_count": 56
        }
      ]
    },
    {
      "cell_type": "code",
      "source": [
        "for layer_number, layer in enumerate(base_model.layers):\n",
        "  print(layer_number, layer.name, layer.trainable)"
      ],
      "metadata": {
        "colab": {
          "base_uri": "https://localhost:8080/"
        },
        "id": "t1uwEin9WV36",
        "outputId": "e1fda905-23a4-48de-b240-3dcef59e02a0"
      },
      "execution_count": null,
      "outputs": [
        {
          "output_type": "stream",
          "name": "stdout",
          "text": [
            "0 input_1 False\n",
            "1 rescaling_1 False\n",
            "2 normalization False\n",
            "3 stem_conv False\n",
            "4 stem_bn False\n",
            "5 stem_activation False\n",
            "6 block1a_project_conv False\n",
            "7 block1a_project_bn False\n",
            "8 block1a_project_activation False\n",
            "9 block2a_expand_conv False\n",
            "10 block2a_expand_bn False\n",
            "11 block2a_expand_activation False\n",
            "12 block2a_project_conv False\n",
            "13 block2a_project_bn False\n",
            "14 block2b_expand_conv False\n",
            "15 block2b_expand_bn False\n",
            "16 block2b_expand_activation False\n",
            "17 block2b_project_conv False\n",
            "18 block2b_project_bn False\n",
            "19 block2b_drop False\n",
            "20 block2b_add False\n",
            "21 block3a_expand_conv False\n",
            "22 block3a_expand_bn False\n",
            "23 block3a_expand_activation False\n",
            "24 block3a_project_conv False\n",
            "25 block3a_project_bn False\n",
            "26 block3b_expand_conv False\n",
            "27 block3b_expand_bn False\n",
            "28 block3b_expand_activation False\n",
            "29 block3b_project_conv False\n",
            "30 block3b_project_bn False\n",
            "31 block3b_drop False\n",
            "32 block3b_add False\n",
            "33 block4a_expand_conv False\n",
            "34 block4a_expand_bn False\n",
            "35 block4a_expand_activation False\n",
            "36 block4a_dwconv2 False\n",
            "37 block4a_bn False\n",
            "38 block4a_activation False\n",
            "39 block4a_se_squeeze False\n",
            "40 block4a_se_reshape False\n",
            "41 block4a_se_reduce False\n",
            "42 block4a_se_expand False\n",
            "43 block4a_se_excite False\n",
            "44 block4a_project_conv False\n",
            "45 block4a_project_bn False\n",
            "46 block4b_expand_conv False\n",
            "47 block4b_expand_bn False\n",
            "48 block4b_expand_activation False\n",
            "49 block4b_dwconv2 False\n",
            "50 block4b_bn False\n",
            "51 block4b_activation False\n",
            "52 block4b_se_squeeze False\n",
            "53 block4b_se_reshape False\n",
            "54 block4b_se_reduce False\n",
            "55 block4b_se_expand False\n",
            "56 block4b_se_excite False\n",
            "57 block4b_project_conv False\n",
            "58 block4b_project_bn False\n",
            "59 block4b_drop False\n",
            "60 block4b_add False\n",
            "61 block4c_expand_conv False\n",
            "62 block4c_expand_bn False\n",
            "63 block4c_expand_activation False\n",
            "64 block4c_dwconv2 False\n",
            "65 block4c_bn False\n",
            "66 block4c_activation False\n",
            "67 block4c_se_squeeze False\n",
            "68 block4c_se_reshape False\n",
            "69 block4c_se_reduce False\n",
            "70 block4c_se_expand False\n",
            "71 block4c_se_excite False\n",
            "72 block4c_project_conv False\n",
            "73 block4c_project_bn False\n",
            "74 block4c_drop False\n",
            "75 block4c_add False\n",
            "76 block5a_expand_conv False\n",
            "77 block5a_expand_bn False\n",
            "78 block5a_expand_activation False\n",
            "79 block5a_dwconv2 False\n",
            "80 block5a_bn False\n",
            "81 block5a_activation False\n",
            "82 block5a_se_squeeze False\n",
            "83 block5a_se_reshape False\n",
            "84 block5a_se_reduce False\n",
            "85 block5a_se_expand False\n",
            "86 block5a_se_excite False\n",
            "87 block5a_project_conv False\n",
            "88 block5a_project_bn False\n",
            "89 block5b_expand_conv False\n",
            "90 block5b_expand_bn False\n",
            "91 block5b_expand_activation False\n",
            "92 block5b_dwconv2 False\n",
            "93 block5b_bn False\n",
            "94 block5b_activation False\n",
            "95 block5b_se_squeeze False\n",
            "96 block5b_se_reshape False\n",
            "97 block5b_se_reduce False\n",
            "98 block5b_se_expand False\n",
            "99 block5b_se_excite False\n",
            "100 block5b_project_conv False\n",
            "101 block5b_project_bn False\n",
            "102 block5b_drop False\n",
            "103 block5b_add False\n",
            "104 block5c_expand_conv False\n",
            "105 block5c_expand_bn False\n",
            "106 block5c_expand_activation False\n",
            "107 block5c_dwconv2 False\n",
            "108 block5c_bn False\n",
            "109 block5c_activation False\n",
            "110 block5c_se_squeeze False\n",
            "111 block5c_se_reshape False\n",
            "112 block5c_se_reduce False\n",
            "113 block5c_se_expand False\n",
            "114 block5c_se_excite False\n",
            "115 block5c_project_conv False\n",
            "116 block5c_project_bn False\n",
            "117 block5c_drop False\n",
            "118 block5c_add False\n",
            "119 block5d_expand_conv False\n",
            "120 block5d_expand_bn False\n",
            "121 block5d_expand_activation False\n",
            "122 block5d_dwconv2 False\n",
            "123 block5d_bn False\n",
            "124 block5d_activation False\n",
            "125 block5d_se_squeeze False\n",
            "126 block5d_se_reshape False\n",
            "127 block5d_se_reduce False\n",
            "128 block5d_se_expand False\n",
            "129 block5d_se_excite False\n",
            "130 block5d_project_conv False\n",
            "131 block5d_project_bn False\n",
            "132 block5d_drop False\n",
            "133 block5d_add False\n",
            "134 block5e_expand_conv False\n",
            "135 block5e_expand_bn False\n",
            "136 block5e_expand_activation False\n",
            "137 block5e_dwconv2 False\n",
            "138 block5e_bn False\n",
            "139 block5e_activation False\n",
            "140 block5e_se_squeeze False\n",
            "141 block5e_se_reshape False\n",
            "142 block5e_se_reduce False\n",
            "143 block5e_se_expand False\n",
            "144 block5e_se_excite False\n",
            "145 block5e_project_conv False\n",
            "146 block5e_project_bn False\n",
            "147 block5e_drop False\n",
            "148 block5e_add False\n",
            "149 block6a_expand_conv False\n",
            "150 block6a_expand_bn False\n",
            "151 block6a_expand_activation False\n",
            "152 block6a_dwconv2 False\n",
            "153 block6a_bn False\n",
            "154 block6a_activation False\n",
            "155 block6a_se_squeeze False\n",
            "156 block6a_se_reshape False\n",
            "157 block6a_se_reduce False\n",
            "158 block6a_se_expand False\n",
            "159 block6a_se_excite False\n",
            "160 block6a_project_conv False\n",
            "161 block6a_project_bn False\n",
            "162 block6b_expand_conv False\n",
            "163 block6b_expand_bn False\n",
            "164 block6b_expand_activation False\n",
            "165 block6b_dwconv2 False\n",
            "166 block6b_bn False\n",
            "167 block6b_activation False\n",
            "168 block6b_se_squeeze False\n",
            "169 block6b_se_reshape False\n",
            "170 block6b_se_reduce False\n",
            "171 block6b_se_expand False\n",
            "172 block6b_se_excite False\n",
            "173 block6b_project_conv False\n",
            "174 block6b_project_bn False\n",
            "175 block6b_drop False\n",
            "176 block6b_add False\n",
            "177 block6c_expand_conv False\n",
            "178 block6c_expand_bn False\n",
            "179 block6c_expand_activation False\n",
            "180 block6c_dwconv2 False\n",
            "181 block6c_bn False\n",
            "182 block6c_activation False\n",
            "183 block6c_se_squeeze False\n",
            "184 block6c_se_reshape False\n",
            "185 block6c_se_reduce False\n",
            "186 block6c_se_expand False\n",
            "187 block6c_se_excite False\n",
            "188 block6c_project_conv False\n",
            "189 block6c_project_bn False\n",
            "190 block6c_drop False\n",
            "191 block6c_add False\n",
            "192 block6d_expand_conv False\n",
            "193 block6d_expand_bn False\n",
            "194 block6d_expand_activation False\n",
            "195 block6d_dwconv2 False\n",
            "196 block6d_bn False\n",
            "197 block6d_activation False\n",
            "198 block6d_se_squeeze False\n",
            "199 block6d_se_reshape False\n",
            "200 block6d_se_reduce False\n",
            "201 block6d_se_expand False\n",
            "202 block6d_se_excite False\n",
            "203 block6d_project_conv False\n",
            "204 block6d_project_bn False\n",
            "205 block6d_drop False\n",
            "206 block6d_add False\n",
            "207 block6e_expand_conv False\n",
            "208 block6e_expand_bn False\n",
            "209 block6e_expand_activation False\n",
            "210 block6e_dwconv2 False\n",
            "211 block6e_bn False\n",
            "212 block6e_activation False\n",
            "213 block6e_se_squeeze False\n",
            "214 block6e_se_reshape False\n",
            "215 block6e_se_reduce False\n",
            "216 block6e_se_expand False\n",
            "217 block6e_se_excite False\n",
            "218 block6e_project_conv False\n",
            "219 block6e_project_bn False\n",
            "220 block6e_drop False\n",
            "221 block6e_add False\n",
            "222 block6f_expand_conv False\n",
            "223 block6f_expand_bn False\n",
            "224 block6f_expand_activation False\n",
            "225 block6f_dwconv2 False\n",
            "226 block6f_bn False\n",
            "227 block6f_activation False\n",
            "228 block6f_se_squeeze False\n",
            "229 block6f_se_reshape False\n",
            "230 block6f_se_reduce False\n",
            "231 block6f_se_expand False\n",
            "232 block6f_se_excite False\n",
            "233 block6f_project_conv False\n",
            "234 block6f_project_bn False\n",
            "235 block6f_drop False\n",
            "236 block6f_add False\n",
            "237 block6g_expand_conv False\n",
            "238 block6g_expand_bn False\n",
            "239 block6g_expand_activation False\n",
            "240 block6g_dwconv2 False\n",
            "241 block6g_bn False\n",
            "242 block6g_activation False\n",
            "243 block6g_se_squeeze False\n",
            "244 block6g_se_reshape False\n",
            "245 block6g_se_reduce False\n",
            "246 block6g_se_expand False\n",
            "247 block6g_se_excite False\n",
            "248 block6g_project_conv False\n",
            "249 block6g_project_bn False\n",
            "250 block6g_drop False\n",
            "251 block6g_add False\n",
            "252 block6h_expand_conv False\n",
            "253 block6h_expand_bn False\n",
            "254 block6h_expand_activation False\n",
            "255 block6h_dwconv2 False\n",
            "256 block6h_bn False\n",
            "257 block6h_activation False\n",
            "258 block6h_se_squeeze False\n",
            "259 block6h_se_reshape False\n",
            "260 block6h_se_reduce False\n",
            "261 block6h_se_expand False\n",
            "262 block6h_se_excite False\n",
            "263 block6h_project_conv False\n",
            "264 block6h_project_bn False\n",
            "265 block6h_drop False\n",
            "266 block6h_add False\n",
            "267 top_conv False\n",
            "268 top_bn False\n",
            "269 top_activation False\n"
          ]
        }
      ]
    },
    {
      "cell_type": "code",
      "source": [
        "model_feature_extraction.summary()"
      ],
      "metadata": {
        "colab": {
          "base_uri": "https://localhost:8080/"
        },
        "id": "fPOnCpaWWhAC",
        "outputId": "eb79a9c1-d6a1-48d6-d45e-d21ede4a02bc"
      },
      "execution_count": null,
      "outputs": [
        {
          "output_type": "stream",
          "name": "stdout",
          "text": [
            "Model: \"model_1\"\n",
            "_________________________________________________________________\n",
            " Layer (type)                Output Shape              Param #   \n",
            "=================================================================\n",
            " input_layer (InputLayer)    [(None, 224, 224, 3)]     0         \n",
            "                                                                 \n",
            " data_augmentation (Sequent  (None, None, None, 3)     0         \n",
            " ial)                                                            \n",
            "                                                                 \n",
            " efficientnetv2-b0 (Functio  (None, None, None, 1280   5919312   \n",
            " nal)                        )                                   \n",
            "                                                                 \n",
            " GAP2D (GlobalAveragePoolin  (None, 1280)              0         \n",
            " g2D)                                                            \n",
            "                                                                 \n",
            " output_layer (Dense)        (None, 10)                12810     \n",
            "                                                                 \n",
            "=================================================================\n",
            "Total params: 5932122 (22.63 MB)\n",
            "Trainable params: 12810 (50.04 KB)\n",
            "Non-trainable params: 5919312 (22.58 MB)\n",
            "_________________________________________________________________\n"
          ]
        }
      ]
    },
    {
      "cell_type": "code",
      "source": [
        "initial_epochs = 11"
      ],
      "metadata": {
        "id": "_a_QPx2A8pTx"
      },
      "execution_count": null,
      "outputs": []
    },
    {
      "cell_type": "code",
      "source": [
        "len(train_data)*32"
      ],
      "metadata": {
        "colab": {
          "base_uri": "https://localhost:8080/"
        },
        "id": "OnOT00DUWlkW",
        "outputId": "e7619b30-82c0-4220-b818-66d15a51a526"
      },
      "execution_count": null,
      "outputs": [
        {
          "output_type": "execute_result",
          "data": {
            "text/plain": [
              "992"
            ]
          },
          "metadata": {},
          "execution_count": 60
        }
      ]
    },
    {
      "cell_type": "code",
      "source": [
        "len(test_data)*32"
      ],
      "metadata": {
        "colab": {
          "base_uri": "https://localhost:8080/"
        },
        "id": "ZyEVMv-hcHYk",
        "outputId": "a2ad1315-6a8b-4c59-a0dd-538118b2417b"
      },
      "execution_count": null,
      "outputs": [
        {
          "output_type": "execute_result",
          "data": {
            "text/plain": [
              "160"
            ]
          },
          "metadata": {},
          "execution_count": 61
        }
      ]
    },
    {
      "cell_type": "code",
      "source": [
        "pred_probs = model_feature_extraction.predict(test_data)\n",
        "pred_probs"
      ],
      "metadata": {
        "colab": {
          "base_uri": "https://localhost:8080/"
        },
        "id": "pzBm--kpcJDX",
        "outputId": "957c15f5-5db7-460a-df31-b3098caf9317"
      },
      "execution_count": null,
      "outputs": [
        {
          "output_type": "stream",
          "name": "stdout",
          "text": [
            "5/5 [==============================] - 2s 66ms/step\n"
          ]
        },
        {
          "output_type": "execute_result",
          "data": {
            "text/plain": [
              "array([[0.21609089, 0.01712846, 0.26009142, ..., 0.01854428, 0.29766712,\n",
              "        0.02530141],\n",
              "       [0.37191153, 0.0915876 , 0.05685615, ..., 0.06868486, 0.01410489,\n",
              "        0.0425094 ],\n",
              "       [0.05530973, 0.04102897, 0.07395066, ..., 0.08181885, 0.02403154,\n",
              "        0.0105396 ],\n",
              "       ...,\n",
              "       [0.11936601, 0.2602498 , 0.09590209, ..., 0.09634925, 0.10771641,\n",
              "        0.10628218],\n",
              "       [0.10652134, 0.06256118, 0.09060526, ..., 0.12583606, 0.09358007,\n",
              "        0.19367938],\n",
              "       [0.01539121, 0.03632809, 0.0018272 , ..., 0.00948158, 0.7644133 ,\n",
              "        0.14937563]], dtype=float32)"
            ]
          },
          "metadata": {},
          "execution_count": 62
        }
      ]
    },
    {
      "cell_type": "code",
      "source": [
        "preds = pred_probs.argmax(axis=-1)\n",
        "preds"
      ],
      "metadata": {
        "colab": {
          "base_uri": "https://localhost:8080/"
        },
        "id": "RQQE_1jrcXgL",
        "outputId": "6180a9bb-c352-45e3-a5e7-aab8172c3591"
      },
      "execution_count": null,
      "outputs": [
        {
          "output_type": "execute_result",
          "data": {
            "text/plain": [
              "array([8, 0, 4, 0, 0, 4, 0, 0, 1, 0, 0, 0, 8, 8, 0, 2, 0, 8, 1, 8, 1, 1,\n",
              "       1, 8, 8, 8, 1, 1, 0, 3, 2, 0, 2, 2, 4, 4, 0, 3, 9, 0, 5, 2, 3, 3,\n",
              "       3, 5, 1, 3, 3, 3, 3, 1, 3, 8, 3, 3, 8, 2, 3, 2, 3, 3, 3, 0, 1, 6,\n",
              "       0, 0, 0, 3, 4, 1, 1, 4, 0, 2, 2, 8, 8, 7, 1, 8, 0, 5, 8, 0, 0, 2,\n",
              "       8, 0, 9, 3, 0, 3, 1, 7, 3, 8, 1, 0, 5, 2, 0, 3, 1, 4, 0, 3, 8, 0,\n",
              "       8, 8, 9, 6, 8, 8, 8, 8, 0, 2, 1, 1, 8, 8, 8, 8, 5, 5, 3, 3, 8, 3,\n",
              "       3, 8, 8, 2, 8, 1, 9, 8])"
            ]
          },
          "metadata": {},
          "execution_count": 63
        }
      ]
    },
    {
      "cell_type": "code",
      "source": [
        "true = []\n",
        "for image, label in test_data.unbatch():\n",
        "  true.append(label.numpy().argmax(axis=-1))"
      ],
      "metadata": {
        "id": "iLG8iuEGcm_j"
      },
      "execution_count": null,
      "outputs": []
    },
    {
      "cell_type": "code",
      "source": [
        "import numpy as np\n",
        "true = np.array(true)\n",
        "true"
      ],
      "metadata": {
        "colab": {
          "base_uri": "https://localhost:8080/"
        },
        "id": "NFv0aEJWczZe",
        "outputId": "43125f05-6367-4415-ba7a-1fbbeb8acd6d"
      },
      "execution_count": null,
      "outputs": [
        {
          "output_type": "execute_result",
          "data": {
            "text/plain": [
              "array([0, 0, 0, 0, 0, 0, 0, 0, 0, 0, 0, 0, 0, 0, 1, 1, 1, 1, 1, 1, 1, 1,\n",
              "       1, 1, 1, 1, 1, 1, 2, 2, 2, 2, 2, 2, 2, 2, 2, 2, 2, 2, 2, 2, 2, 2,\n",
              "       2, 2, 2, 3, 3, 3, 3, 3, 3, 3, 3, 3, 3, 3, 3, 3, 3, 3, 3, 4, 4, 4,\n",
              "       4, 4, 4, 4, 4, 4, 4, 5, 5, 5, 5, 5, 5, 5, 5, 5, 6, 6, 6, 6, 6, 6,\n",
              "       6, 6, 6, 6, 6, 6, 7, 7, 7, 7, 7, 7, 7, 7, 7, 7, 7, 7, 7, 7, 7, 7,\n",
              "       8, 8, 8, 8, 8, 8, 8, 8, 8, 8, 8, 8, 8, 8, 8, 8, 8, 8, 9, 9, 9, 9,\n",
              "       9, 9, 9, 9, 9, 9, 9, 9])"
            ]
          },
          "metadata": {},
          "execution_count": 65
        }
      ]
    },
    {
      "cell_type": "code",
      "source": [
        "from sklearn.metrics import confusion_matrix\n",
        "import seaborn as sn\n",
        "cm = confusion_matrix(true, preds)\n",
        "sn.heatmap(cm, annot=True)"
      ],
      "metadata": {
        "colab": {
          "base_uri": "https://localhost:8080/",
          "height": 447
        },
        "id": "yNffUCJwdw8D",
        "outputId": "2caa049a-6bd5-4a79-b034-a5b2bc4df67f"
      },
      "execution_count": null,
      "outputs": [
        {
          "output_type": "execute_result",
          "data": {
            "text/plain": [
              "<Axes: >"
            ]
          },
          "metadata": {},
          "execution_count": 66
        },
        {
          "output_type": "display_data",
          "data": {
            "text/plain": [
              "<Figure size 640x480 with 2 Axes>"
            ],
            "image/png": "[encoded data removed]"
          },
          "metadata": {}
        }
      ]
    },
    {
      "cell_type": "markdown",
      "source": [
        "## Transfer Learning: Fine-tuning the model"
      ],
      "metadata": {
        "id": "Vb9a_xalD3Sg"
      }
    },
    {
      "cell_type": "code",
      "source": [
        "base_model.trainable = True\n",
        "for layer in base_model.layers[:-10]:\n",
        "  layer.trainable = False"
      ],
      "metadata": {
        "id": "XYeNKCix89pI"
      },
      "execution_count": null,
      "outputs": []
    },
    {
      "cell_type": "code",
      "source": [
        "for layer in base_model.layers:\n",
        "  print(layer.name, layer.trainable)"
      ],
      "metadata": {
        "colab": {
          "base_uri": "https://localhost:8080/"
        },
        "id": "ql9l79aH9lLq",
        "outputId": "6efec5a7-8910-4199-b958-73c9d4d7fe31"
      },
      "execution_count": null,
      "outputs": [
        {
          "output_type": "stream",
          "name": "stdout",
          "text": [
            "input_1 False\n",
            "rescaling_1 False\n",
            "normalization False\n",
            "stem_conv False\n",
            "stem_bn False\n",
            "stem_activation False\n",
            "block1a_project_conv False\n",
            "block1a_project_bn False\n",
            "block1a_project_activation False\n",
            "block2a_expand_conv False\n",
            "block2a_expand_bn False\n",
            "block2a_expand_activation False\n",
            "block2a_project_conv False\n",
            "block2a_project_bn False\n",
            "block2b_expand_conv False\n",
            "block2b_expand_bn False\n",
            "block2b_expand_activation False\n",
            "block2b_project_conv False\n",
            "block2b_project_bn False\n",
            "block2b_drop False\n",
            "block2b_add False\n",
            "block3a_expand_conv False\n",
            "block3a_expand_bn False\n",
            "block3a_expand_activation False\n",
            "block3a_project_conv False\n",
            "block3a_project_bn False\n",
            "block3b_expand_conv False\n",
            "block3b_expand_bn False\n",
            "block3b_expand_activation False\n",
            "block3b_project_conv False\n",
            "block3b_project_bn False\n",
            "block3b_drop False\n",
            "block3b_add False\n",
            "block4a_expand_conv False\n",
            "block4a_expand_bn False\n",
            "block4a_expand_activation False\n",
            "block4a_dwconv2 False\n",
            "block4a_bn False\n",
            "block4a_activation False\n",
            "block4a_se_squeeze False\n",
            "block4a_se_reshape False\n",
            "block4a_se_reduce False\n",
            "block4a_se_expand False\n",
            "block4a_se_excite False\n",
            "block4a_project_conv False\n",
            "block4a_project_bn False\n",
            "block4b_expand_conv False\n",
            "block4b_expand_bn False\n",
            "block4b_expand_activation False\n",
            "block4b_dwconv2 False\n",
            "block4b_bn False\n",
            "block4b_activation False\n",
            "block4b_se_squeeze False\n",
            "block4b_se_reshape False\n",
            "block4b_se_reduce False\n",
            "block4b_se_expand False\n",
            "block4b_se_excite False\n",
            "block4b_project_conv False\n",
            "block4b_project_bn False\n",
            "block4b_drop False\n",
            "block4b_add False\n",
            "block4c_expand_conv False\n",
            "block4c_expand_bn False\n",
            "block4c_expand_activation False\n",
            "block4c_dwconv2 False\n",
            "block4c_bn False\n",
            "block4c_activation False\n",
            "block4c_se_squeeze False\n",
            "block4c_se_reshape False\n",
            "block4c_se_reduce False\n",
            "block4c_se_expand False\n",
            "block4c_se_excite False\n",
            "block4c_project_conv False\n",
            "block4c_project_bn False\n",
            "block4c_drop False\n",
            "block4c_add False\n",
            "block5a_expand_conv False\n",
            "block5a_expand_bn False\n",
            "block5a_expand_activation False\n",
            "block5a_dwconv2 False\n",
            "block5a_bn False\n",
            "block5a_activation False\n",
            "block5a_se_squeeze False\n",
            "block5a_se_reshape False\n",
            "block5a_se_reduce False\n",
            "block5a_se_expand False\n",
            "block5a_se_excite False\n",
            "block5a_project_conv False\n",
            "block5a_project_bn False\n",
            "block5b_expand_conv False\n",
            "block5b_expand_bn False\n",
            "block5b_expand_activation False\n",
            "block5b_dwconv2 False\n",
            "block5b_bn False\n",
            "block5b_activation False\n",
            "block5b_se_squeeze False\n",
            "block5b_se_reshape False\n",
            "block5b_se_reduce False\n",
            "block5b_se_expand False\n",
            "block5b_se_excite False\n",
            "block5b_project_conv False\n",
            "block5b_project_bn False\n",
            "block5b_drop False\n",
            "block5b_add False\n",
            "block5c_expand_conv False\n",
            "block5c_expand_bn False\n",
            "block5c_expand_activation False\n",
            "block5c_dwconv2 False\n",
            "block5c_bn False\n",
            "block5c_activation False\n",
            "block5c_se_squeeze False\n",
            "block5c_se_reshape False\n",
            "block5c_se_reduce False\n",
            "block5c_se_expand False\n",
            "block5c_se_excite False\n",
            "block5c_project_conv False\n",
            "block5c_project_bn False\n",
            "block5c_drop False\n",
            "block5c_add False\n",
            "block5d_expand_conv False\n",
            "block5d_expand_bn False\n",
            "block5d_expand_activation False\n",
            "block5d_dwconv2 False\n",
            "block5d_bn False\n",
            "block5d_activation False\n",
            "block5d_se_squeeze False\n",
            "block5d_se_reshape False\n",
            "block5d_se_reduce False\n",
            "block5d_se_expand False\n",
            "block5d_se_excite False\n",
            "block5d_project_conv False\n",
            "block5d_project_bn False\n",
            "block5d_drop False\n",
            "block5d_add False\n",
            "block5e_expand_conv False\n",
            "block5e_expand_bn False\n",
            "block5e_expand_activation False\n",
            "block5e_dwconv2 False\n",
            "block5e_bn False\n",
            "block5e_activation False\n",
            "block5e_se_squeeze False\n",
            "block5e_se_reshape False\n",
            "block5e_se_reduce False\n",
            "block5e_se_expand False\n",
            "block5e_se_excite False\n",
            "block5e_project_conv False\n",
            "block5e_project_bn False\n",
            "block5e_drop False\n",
            "block5e_add False\n",
            "block6a_expand_conv False\n",
            "block6a_expand_bn False\n",
            "block6a_expand_activation False\n",
            "block6a_dwconv2 False\n",
            "block6a_bn False\n",
            "block6a_activation False\n",
            "block6a_se_squeeze False\n",
            "block6a_se_reshape False\n",
            "block6a_se_reduce False\n",
            "block6a_se_expand False\n",
            "block6a_se_excite False\n",
            "block6a_project_conv False\n",
            "block6a_project_bn False\n",
            "block6b_expand_conv False\n",
            "block6b_expand_bn False\n",
            "block6b_expand_activation False\n",
            "block6b_dwconv2 False\n",
            "block6b_bn False\n",
            "block6b_activation False\n",
            "block6b_se_squeeze False\n",
            "block6b_se_reshape False\n",
            "block6b_se_reduce False\n",
            "block6b_se_expand False\n",
            "block6b_se_excite False\n",
            "block6b_project_conv False\n",
            "block6b_project_bn False\n",
            "block6b_drop False\n",
            "block6b_add False\n",
            "block6c_expand_conv False\n",
            "block6c_expand_bn False\n",
            "block6c_expand_activation False\n",
            "block6c_dwconv2 False\n",
            "block6c_bn False\n",
            "block6c_activation False\n",
            "block6c_se_squeeze False\n",
            "block6c_se_reshape False\n",
            "block6c_se_reduce False\n",
            "block6c_se_expand False\n",
            "block6c_se_excite False\n",
            "block6c_project_conv False\n",
            "block6c_project_bn False\n",
            "block6c_drop False\n",
            "block6c_add False\n",
            "block6d_expand_conv False\n",
            "block6d_expand_bn False\n",
            "block6d_expand_activation False\n",
            "block6d_dwconv2 False\n",
            "block6d_bn False\n",
            "block6d_activation False\n",
            "block6d_se_squeeze False\n",
            "block6d_se_reshape False\n",
            "block6d_se_reduce False\n",
            "block6d_se_expand False\n",
            "block6d_se_excite False\n",
            "block6d_project_conv False\n",
            "block6d_project_bn False\n",
            "block6d_drop False\n",
            "block6d_add False\n",
            "block6e_expand_conv False\n",
            "block6e_expand_bn False\n",
            "block6e_expand_activation False\n",
            "block6e_dwconv2 False\n",
            "block6e_bn False\n",
            "block6e_activation False\n",
            "block6e_se_squeeze False\n",
            "block6e_se_reshape False\n",
            "block6e_se_reduce False\n",
            "block6e_se_expand False\n",
            "block6e_se_excite False\n",
            "block6e_project_conv False\n",
            "block6e_project_bn False\n",
            "block6e_drop False\n",
            "block6e_add False\n",
            "block6f_expand_conv False\n",
            "block6f_expand_bn False\n",
            "block6f_expand_activation False\n",
            "block6f_dwconv2 False\n",
            "block6f_bn False\n",
            "block6f_activation False\n",
            "block6f_se_squeeze False\n",
            "block6f_se_reshape False\n",
            "block6f_se_reduce False\n",
            "block6f_se_expand False\n",
            "block6f_se_excite False\n",
            "block6f_project_conv False\n",
            "block6f_project_bn False\n",
            "block6f_drop False\n",
            "block6f_add False\n",
            "block6g_expand_conv False\n",
            "block6g_expand_bn False\n",
            "block6g_expand_activation False\n",
            "block6g_dwconv2 False\n",
            "block6g_bn False\n",
            "block6g_activation False\n",
            "block6g_se_squeeze False\n",
            "block6g_se_reshape False\n",
            "block6g_se_reduce False\n",
            "block6g_se_expand False\n",
            "block6g_se_excite False\n",
            "block6g_project_conv False\n",
            "block6g_project_bn False\n",
            "block6g_drop False\n",
            "block6g_add False\n",
            "block6h_expand_conv False\n",
            "block6h_expand_bn False\n",
            "block6h_expand_activation False\n",
            "block6h_dwconv2 False\n",
            "block6h_bn False\n",
            "block6h_activation False\n",
            "block6h_se_squeeze False\n",
            "block6h_se_reshape False\n",
            "block6h_se_reduce True\n",
            "block6h_se_expand True\n",
            "block6h_se_excite True\n",
            "block6h_project_conv True\n",
            "block6h_project_bn True\n",
            "block6h_drop True\n",
            "block6h_add True\n",
            "top_conv True\n",
            "top_bn True\n",
            "top_activation True\n"
          ]
        }
      ]
    },
    {
      "cell_type": "code",
      "source": [
        "print(len(model_feature_extraction.layers[1].trainable_variables))"
      ],
      "metadata": {
        "colab": {
          "base_uri": "https://localhost:8080/"
        },
        "id": "3U7UW_Wv9w36",
        "outputId": "f130f75c-23d9-4649-d875-4ac2f61d61b9"
      },
      "execution_count": null,
      "outputs": [
        {
          "output_type": "stream",
          "name": "stdout",
          "text": [
            "0\n"
          ]
        }
      ]
    },
    {
      "cell_type": "code",
      "source": [
        "model_feature_extraction.compile(loss=\"categorical_crossentropy\",\n",
        "                optimizer=tf.keras.optimizers.Adam(learning_rate = 0.0001), # lowering lr with fine-tuning!; 10 times less\n",
        "                metrics=[\"accuracy\"])"
      ],
      "metadata": {
        "id": "f0HHgRKo92mf"
      },
      "execution_count": null,
      "outputs": []
    },
    {
      "cell_type": "code",
      "source": [
        "fine_tune_epochs = initial_epochs + 3\n",
        "\n",
        "history_fine_tuning= model_feature_extraction.fit(train_data,\n",
        "                                               epochs=fine_tune_epochs,\n",
        "                                               validation_data=test_data,\n",
        "                                               validation_steps=len(test_data),\n",
        "                                               initial_epoch=history_1.epoch[-1] # Start from previous last epoch\n",
        "                                               )"
      ],
      "metadata": {
        "colab": {
          "base_uri": "https://localhost:8080/"
        },
        "id": "jNbabvra-LGJ",
        "outputId": "d29ae38c-ead6-4082-efde-61379cec5e1e"
      },
      "execution_count": null,
      "outputs": [
        {
          "output_type": "stream",
          "name": "stdout",
          "text": [
            "Epoch 11/14\n",
            "31/31 [==============================] - 29s 607ms/step - loss: 1.6613 - accuracy: 0.4429 - val_loss: 1.9449 - val_accuracy: 0.2929\n",
            "Epoch 12/14\n",
            "31/31 [==============================] - 17s 532ms/step - loss: 1.6225 - accuracy: 0.4631 - val_loss: 1.9899 - val_accuracy: 0.3143\n",
            "Epoch 13/14\n",
            "31/31 [==============================] - 17s 523ms/step - loss: 1.6063 - accuracy: 0.4499 - val_loss: 1.9744 - val_accuracy: 0.3429\n",
            "Epoch 14/14\n",
            "31/31 [==============================] - 13s 420ms/step - loss: 1.5895 - accuracy: 0.4651 - val_loss: 1.9454 - val_accuracy: 0.3214\n"
          ]
        }
      ]
    },
    {
      "cell_type": "code",
      "source": [
        "def compare_historys(original_history, new_history, initial_epochs=5):\n",
        "  acc = original_history.history[\"accuracy\"]\n",
        "  loss = original_history.history[\"loss\"]\n",
        "\n",
        "  val_acc = original_history.history[\"val_accuracy\"]\n",
        "  val_loss = original_history.history[\"val_loss\"]\n",
        "\n",
        "  total_acc = acc + new_history.history[\"accuracy\"]\n",
        "  total_loss = loss + new_history.history[\"loss\"]\n",
        "\n",
        "  total_val_acc = val_acc + new_history.history[\"val_accuracy\"]\n",
        "  total_val_loss = val_loss + new_history.history[\"val_loss\"]\n",
        "\n",
        "  # Make plot for accuracy\n",
        "  plt.figure(figsize=(8,8))\n",
        "  plt.subplot(2,1,1)\n",
        "  plt.plot(total_acc, label=\"Training Accuracy\")\n",
        "  plt.plot(total_val_acc, label=\"Val Accuracy\")\n",
        "  plt.plot([initial_epochs-1, initial_epochs-1], plt.ylim(), label=\"Start Fine Tuning\")\n",
        "  plt.legend(loc=\"lower right\")\n",
        "  plt.title(\"Training and Validation Accuracy\")\n",
        "\n",
        "  # Make plot for loss\n",
        "  plt.figure(figsize=(8,8))\n",
        "  plt.subplot(2,1,2)\n",
        "  plt.plot(total_loss, label=\"Training Loss\")\n",
        "  plt.plot(total_val_loss, label=\"Val Loss\")\n",
        "  plt.plot([initial_epochs-1, initial_epochs-1], plt.ylim(), label=\"Start Fine Tuning\")\n",
        "  plt.legend(loc=\"upper right\")\n",
        "  plt.title(\"Training and Validation Loss\")"
      ],
      "metadata": {
        "id": "__lVFOR8_AQp"
      },
      "execution_count": null,
      "outputs": []
    },
    {
      "cell_type": "code",
      "source": [
        "compare_historys(history_1, history_fine_tuning, initial_epochs=initial_epochs)"
      ],
      "metadata": {
        "colab": {
          "base_uri": "https://localhost:8080/",
          "height": 709
        },
        "id": "J2tp86ZeAyfZ",
        "outputId": "ba23061c-116c-45b8-dc02-2df45b507474"
      },
      "execution_count": null,
      "outputs": [
        {
          "output_type": "display_data",
          "data": {
            "text/plain": [
              "<Figure size 800x800 with 1 Axes>"
            ],
            "image/png": "[encoded data removed]"
          },
          "metadata": {}
        },
        {
          "output_type": "display_data",
          "data": {
            "text/plain": [
              "<Figure size 800x800 with 1 Axes>"
            ],
            "image/png": "[encoded data removed]"
          },
          "metadata": {}
        }
      ]
    },
    {
      "cell_type": "code",
      "source": [
        "model_feature_extraction.evaluate(test_data)"
      ],
      "metadata": {
        "colab": {
          "base_uri": "https://localhost:8080/"
        },
        "id": "1AFhOYy8A8UK",
        "outputId": "f5395c28-0a74-4bcf-cef3-950e99da7cef"
      },
      "execution_count": null,
      "outputs": [
        {
          "output_type": "stream",
          "name": "stdout",
          "text": [
            "5/5 [==============================] - 0s 47ms/step - loss: 1.9454 - accuracy: 0.3214\n"
          ]
        },
        {
          "output_type": "execute_result",
          "data": {
            "text/plain": [
              "[1.945430040359497, 0.3214285671710968]"
            ]
          },
          "metadata": {},
          "execution_count": 74
        }
      ]
    },
    {
      "cell_type": "code",
      "source": [
        "pred_probs = model_feature_extraction.predict(test_data)\n",
        "pred_probs"
      ],
      "metadata": {
        "id": "FYxr_t0EBDaA",
        "colab": {
          "base_uri": "https://localhost:8080/"
        },
        "outputId": "d2540c6a-96a3-4af8-f958-9610504b2b5d"
      },
      "execution_count": null,
      "outputs": [
        {
          "output_type": "stream",
          "name": "stdout",
          "text": [
            "5/5 [==============================] - 2s 56ms/step\n"
          ]
        },
        {
          "output_type": "execute_result",
          "data": {
            "text/plain": [
              "array([[2.49715313e-01, 8.58538598e-03, 2.69789368e-01, ...,\n",
              "        1.01646055e-02, 3.13142329e-01, 1.88341588e-02],\n",
              "       [4.00630534e-01, 4.51003872e-02, 4.31564152e-02, ...,\n",
              "        4.93224971e-02, 5.14680799e-03, 3.61282565e-02],\n",
              "       [3.17266658e-02, 1.34835104e-02, 6.16605803e-02, ...,\n",
              "        5.04368208e-02, 9.08833370e-03, 5.05945878e-03],\n",
              "       ...,\n",
              "       [1.18894704e-01, 2.56989866e-01, 8.02055821e-02, ...,\n",
              "        8.09346363e-02, 9.46839228e-02, 1.53219059e-01],\n",
              "       [8.05131197e-02, 3.63388844e-02, 8.91584083e-02, ...,\n",
              "        1.10492505e-01, 5.09610400e-02, 3.34500581e-01],\n",
              "       [4.88078129e-03, 1.76566355e-02, 3.86085361e-04, ...,\n",
              "        3.38052982e-03, 8.31996262e-01, 1.32543549e-01]], dtype=float32)"
            ]
          },
          "metadata": {},
          "execution_count": 75
        }
      ]
    },
    {
      "cell_type": "code",
      "source": [
        "preds = pred_probs.argmax(axis=-1)\n",
        "preds"
      ],
      "metadata": {
        "colab": {
          "base_uri": "https://localhost:8080/"
        },
        "id": "23xwOsuEERYn",
        "outputId": "dbc62ec5-92f5-42f9-f4bd-5032c6e552ac"
      },
      "execution_count": null,
      "outputs": [
        {
          "output_type": "execute_result",
          "data": {
            "text/plain": [
              "array([8, 0, 4, 0, 0, 4, 0, 0, 1, 0, 0, 4, 8, 8, 0, 1, 0, 8, 1, 8, 1, 1,\n",
              "       1, 8, 8, 6, 1, 1, 2, 8, 2, 0, 2, 2, 4, 4, 0, 3, 9, 0, 5, 2, 3, 3,\n",
              "       3, 5, 1, 3, 3, 3, 3, 5, 3, 8, 3, 3, 8, 3, 3, 2, 3, 3, 3, 0, 6, 6,\n",
              "       0, 0, 0, 3, 4, 1, 6, 4, 0, 2, 2, 8, 8, 7, 1, 8, 0, 5, 8, 9, 0, 4,\n",
              "       8, 0, 9, 3, 9, 3, 5, 7, 3, 8, 1, 0, 6, 2, 0, 3, 9, 4, 0, 3, 8, 9,\n",
              "       8, 8, 9, 6, 8, 8, 8, 8, 5, 2, 2, 1, 8, 8, 8, 8, 9, 5, 3, 9, 8, 3,\n",
              "       3, 6, 8, 2, 8, 1, 9, 8])"
            ]
          },
          "metadata": {},
          "execution_count": 76
        }
      ]
    },
    {
      "cell_type": "code",
      "source": [
        "true = []\n",
        "for image, label in test_data.unbatch():\n",
        "  true.append(label.numpy().argmax(axis=-1))"
      ],
      "metadata": {
        "id": "yOJRJjV7EUMU"
      },
      "execution_count": null,
      "outputs": []
    },
    {
      "cell_type": "code",
      "source": [
        "true = np.array(true)\n",
        "true"
      ],
      "metadata": {
        "colab": {
          "base_uri": "https://localhost:8080/"
        },
        "id": "h1XiZ2mEEWeC",
        "outputId": "0cfada2c-dd87-4327-9d0e-ba9239244236"
      },
      "execution_count": null,
      "outputs": [
        {
          "output_type": "execute_result",
          "data": {
            "text/plain": [
              "array([0, 0, 0, 0, 0, 0, 0, 0, 0, 0, 0, 0, 0, 0, 1, 1, 1, 1, 1, 1, 1, 1,\n",
              "       1, 1, 1, 1, 1, 1, 2, 2, 2, 2, 2, 2, 2, 2, 2, 2, 2, 2, 2, 2, 2, 2,\n",
              "       2, 2, 2, 3, 3, 3, 3, 3, 3, 3, 3, 3, 3, 3, 3, 3, 3, 3, 3, 4, 4, 4,\n",
              "       4, 4, 4, 4, 4, 4, 4, 5, 5, 5, 5, 5, 5, 5, 5, 5, 6, 6, 6, 6, 6, 6,\n",
              "       6, 6, 6, 6, 6, 6, 7, 7, 7, 7, 7, 7, 7, 7, 7, 7, 7, 7, 7, 7, 7, 7,\n",
              "       8, 8, 8, 8, 8, 8, 8, 8, 8, 8, 8, 8, 8, 8, 8, 8, 8, 8, 9, 9, 9, 9,\n",
              "       9, 9, 9, 9, 9, 9, 9, 9])"
            ]
          },
          "metadata": {},
          "execution_count": 78
        }
      ]
    },
    {
      "cell_type": "code",
      "source": [
        "cm = confusion_matrix(true, preds)\n",
        "sn.heatmap(cm, annot=True)"
      ],
      "metadata": {
        "colab": {
          "base_uri": "https://localhost:8080/",
          "height": 452
        },
        "id": "h6tMLgUdGAH4",
        "outputId": "172bca90-bef1-4127-e283-489a91bc6025"
      },
      "execution_count": null,
      "outputs": [
        {
          "output_type": "execute_result",
          "data": {
            "text/plain": [
              "<Axes: >"
            ]
          },
          "metadata": {},
          "execution_count": 79
        },
        {
          "output_type": "display_data",
          "data": {
            "text/plain": [
              "<Figure size 640x480 with 2 Axes>"
            ],
            "image/png": "[encoded data removed]"
          },
          "metadata": {}
        }
      ]
    },
    {
      "cell_type": "code",
      "source": [
        "from sklearn.metrics import accuracy_score, precision_recall_fscore_support"
      ],
      "metadata": {
        "id": "cRt6c9dgGDKt"
      },
      "execution_count": null,
      "outputs": []
    },
    {
      "cell_type": "code",
      "source": [
        "accuracy = accuracy_score(true, preds)\n",
        "precision, recall, f1_score, _ = precision_recall_fscore_support(true, preds, average=\"weighted\")"
      ],
      "metadata": {
        "id": "zd_NIjUUHEx2"
      },
      "execution_count": null,
      "outputs": []
    },
    {
      "cell_type": "code",
      "source": [
        "print(f\"Accuracy: {accuracy}\\nPrecision: {precision}\\nRecall: {recall}\\nF1-score: {f1_score}\")"
      ],
      "metadata": {
        "colab": {
          "base_uri": "https://localhost:8080/"
        },
        "id": "oJiDjZ4RHJeC",
        "outputId": "23cbc2c3-e35f-4f0d-9791-6b5926955d36"
      },
      "execution_count": null,
      "outputs": [
        {
          "output_type": "stream",
          "name": "stdout",
          "text": [
            "Accuracy: 0.32142857142857145\n",
            "Precision: 0.31553642111355995\n",
            "Recall: 0.32142857142857145\n",
            "F1-score: 0.2867953537710852\n"
          ]
        }
      ]
    },
    {
      "cell_type": "code",
      "source": [],
      "metadata": {
        "id": "KUyQ5tjEIYxc"
      },
      "execution_count": null,
      "outputs": []
    }
  ]
}